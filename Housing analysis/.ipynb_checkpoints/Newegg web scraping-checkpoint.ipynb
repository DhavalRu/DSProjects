{
 "cells": [
  {
   "cell_type": "code",
   "execution_count": null,
   "metadata": {
    "collapsed": true
   },
   "outputs": [],
   "source": [
    "import bs4\n",
    "from urllib.request import urlopen as uReq\n",
    "from bs4 import BeautifulSoup as soup\n",
    "\n",
    "my_url = 'https://www.newegg.ca/Video-Cards-Video-Devices/Category/ID-38?Tpk=graphics%20card'\n",
    "\n",
    "# Opening up connection, grabbing the page\n",
    "uClient = uReq(my_url)\n",
    "page_html = uClient.read()\n",
    "uClient.close()\n",
    "\n",
    "# html parsing\n",
    "page_soup = soup(page_html, 'html.parser')\n",
    "\n",
    "# grabs each product\n",
    "containers = page_soup.findAll(\"div\", {\"class\": \"item-container\"})\n",
    "\n",
    "#len(containers)\n",
    "filename = 'products.csv'\n",
    "f = open(filename, 'w')\n",
    "headers = \"brand, product_name, shipping\\n\"\n",
    "f.write(headers)\n",
    "\n",
    "for container in containers:\n",
    "    brand = container.div.div.a.img['title']\n",
    "    title_container = container.findAll('a', {'class': 'item-title'})\n",
    "    product_name = title_container[0].text\n",
    "    shipping_container = container.findAll('li', {'class': 'price-ship'})\n",
    "    shipping = shipping_container[0].text.strip()\n",
    "    #print(brand)\n",
    "    #print(product_name)\n",
    "    #print(shipping)\n",
    "    f.write(brand + \",\" + product_name.replace(\",\", \"|\") + \",\" + shipping + '\\n')\n",
    "    \n",
    "f.close()"
   ]
  }
 ],
 "metadata": {
  "kernelspec": {
   "display_name": "Python 3",
   "language": "python",
   "name": "python3"
  },
  "language_info": {
   "codemirror_mode": {
    "name": "ipython",
    "version": 3
   },
   "file_extension": ".py",
   "mimetype": "text/x-python",
   "name": "python",
   "nbconvert_exporter": "python",
   "pygments_lexer": "ipython3",
   "version": "3.6.3"
  }
 },
 "nbformat": 4,
 "nbformat_minor": 2
}
