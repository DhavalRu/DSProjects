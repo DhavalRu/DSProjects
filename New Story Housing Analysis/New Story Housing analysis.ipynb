{
 "cells": [
  {
   "cell_type": "code",
   "execution_count": 256,
   "metadata": {},
   "outputs": [
    {
     "data": {
      "text/html": [
       "<script>requirejs.config({paths: { 'plotly': ['https://cdn.plot.ly/plotly-latest.min']},});if(!window.Plotly) {{require(['plotly'],function(plotly) {window.Plotly=plotly;});}}</script>"
      ],
      "text/vnd.plotly.v1+html": [
       "<script>requirejs.config({paths: { 'plotly': ['https://cdn.plot.ly/plotly-latest.min']},});if(!window.Plotly) {{require(['plotly'],function(plotly) {window.Plotly=plotly;});}}</script>"
      ]
     },
     "metadata": {},
     "output_type": "display_data"
    }
   ],
   "source": [
    "import numpy as np\n",
    "import pandas as pd\n",
    "import matplotlib.pyplot as plt\n",
    "\n",
    "import plotly.offline as py\n",
    "py.init_notebook_mode(connected=True)\n",
    "import plotly.graph_objs as go\n",
    "\n",
    "%matplotlib inline"
   ]
  },
  {
   "cell_type": "code",
   "execution_count": 257,
   "metadata": {
    "collapsed": true
   },
   "outputs": [],
   "source": [
    "# Not using this file\n",
    "df_ahu_base_demo = pd.read_csv('Data/Ahuachapan Baseline Demographics.csv')\n",
    "df_ahu_base_demo = df_ahu_base_demo[['# of Residents UNDER 18 yr.', '# of Residents OVER 18 yr.', '# of Tent Residents', \n",
    "                                     'sex', 'date_of_birth', 'HH1 Occupation', 'HH2 Sex', 'HH2 Age', 'HH2 Occupation']]\n",
    "df_ahu_base_demo.rename(columns={\"# of Residents UNDER 18 yr.\": \"People under 18\", \n",
    "                                 \"# of Residents OVER 18 yr.\": \"People over 18\",\n",
    "                                \"# of Tent Residents\": \"Total Residents\",\n",
    "                                \"sex\": \"HH1 Sex\", \"date_of_birth\": \"HH1 Age\"}, inplace=True)\n",
    "#df_ahu_base_demo.head()"
   ]
  },
  {
   "cell_type": "code",
   "execution_count": 258,
   "metadata": {},
   "outputs": [
    {
     "data": {
      "text/html": [
       "<div>\n",
       "<style scoped>\n",
       "    .dataframe tbody tr th:only-of-type {\n",
       "        vertical-align: middle;\n",
       "    }\n",
       "\n",
       "    .dataframe tbody tr th {\n",
       "        vertical-align: top;\n",
       "    }\n",
       "\n",
       "    .dataframe thead th {\n",
       "        text-align: right;\n",
       "    }\n",
       "</style>\n",
       "<table border=\"1\" class=\"dataframe\">\n",
       "  <thead>\n",
       "    <tr style=\"text-align: right;\">\n",
       "      <th></th>\n",
       "      <th>Total Residents</th>\n",
       "      <th>Difficulty Sleeping</th>\n",
       "      <th>Difficulty Sleeping Frequency</th>\n",
       "      <th>Trouble staying awake</th>\n",
       "      <th>Sick Freq</th>\n",
       "      <th>Diarrhea</th>\n",
       "      <th>Tent collapse risk</th>\n",
       "      <th>Space to sleep</th>\n",
       "      <th>Space for stuff</th>\n",
       "      <th>Wake others?</th>\n",
       "      <th>Study space</th>\n",
       "      <th>Safe in tent?</th>\n",
       "      <th>Kids home alone safe?</th>\n",
       "    </tr>\n",
       "  </thead>\n",
       "  <tbody>\n",
       "    <tr>\n",
       "      <th>0</th>\n",
       "      <td>5</td>\n",
       "      <td>Yes</td>\n",
       "      <td>Very Often</td>\n",
       "      <td>Yes</td>\n",
       "      <td>Very Often</td>\n",
       "      <td>Yes</td>\n",
       "      <td>Yes</td>\n",
       "      <td>No</td>\n",
       "      <td>No</td>\n",
       "      <td>Yes</td>\n",
       "      <td>No</td>\n",
       "      <td>No</td>\n",
       "      <td>Yes</td>\n",
       "    </tr>\n",
       "    <tr>\n",
       "      <th>1</th>\n",
       "      <td>4</td>\n",
       "      <td>Yes</td>\n",
       "      <td>Sometimes</td>\n",
       "      <td>No</td>\n",
       "      <td>Sometimes</td>\n",
       "      <td>No</td>\n",
       "      <td>No</td>\n",
       "      <td>Yes</td>\n",
       "      <td>Yes</td>\n",
       "      <td>No</td>\n",
       "      <td>No</td>\n",
       "      <td>No</td>\n",
       "      <td>No</td>\n",
       "    </tr>\n",
       "    <tr>\n",
       "      <th>2</th>\n",
       "      <td>3</td>\n",
       "      <td>Yes</td>\n",
       "      <td>Often</td>\n",
       "      <td>Yes</td>\n",
       "      <td>Sometimes</td>\n",
       "      <td>Yes</td>\n",
       "      <td>Yes</td>\n",
       "      <td>Yes</td>\n",
       "      <td>No</td>\n",
       "      <td>Yes</td>\n",
       "      <td>No</td>\n",
       "      <td>No</td>\n",
       "      <td>Yes</td>\n",
       "    </tr>\n",
       "    <tr>\n",
       "      <th>3</th>\n",
       "      <td>2</td>\n",
       "      <td>Yes</td>\n",
       "      <td>Sometimes</td>\n",
       "      <td>No</td>\n",
       "      <td>Sometimes</td>\n",
       "      <td>Yes</td>\n",
       "      <td>Yes</td>\n",
       "      <td>No</td>\n",
       "      <td>Yes</td>\n",
       "      <td>No</td>\n",
       "      <td>No</td>\n",
       "      <td>No</td>\n",
       "      <td>No</td>\n",
       "    </tr>\n",
       "    <tr>\n",
       "      <th>4</th>\n",
       "      <td>3</td>\n",
       "      <td>Yes</td>\n",
       "      <td>Sometimes</td>\n",
       "      <td>No</td>\n",
       "      <td>Sometimes</td>\n",
       "      <td>Yes</td>\n",
       "      <td>Yes</td>\n",
       "      <td>No</td>\n",
       "      <td>No</td>\n",
       "      <td>Yes</td>\n",
       "      <td>Yes</td>\n",
       "      <td>No</td>\n",
       "      <td>No</td>\n",
       "    </tr>\n",
       "  </tbody>\n",
       "</table>\n",
       "</div>"
      ],
      "text/plain": [
       "   Total Residents Difficulty Sleeping Difficulty Sleeping Frequency  \\\n",
       "0                5                 Yes                    Very Often   \n",
       "1                4                 Yes                     Sometimes   \n",
       "2                3                 Yes                         Often   \n",
       "3                2                 Yes                     Sometimes   \n",
       "4                3                 Yes                     Sometimes   \n",
       "\n",
       "  Trouble staying awake   Sick Freq Diarrhea Tent collapse risk  \\\n",
       "0                   Yes  Very Often      Yes                Yes   \n",
       "1                    No   Sometimes       No                 No   \n",
       "2                   Yes   Sometimes      Yes                Yes   \n",
       "3                    No   Sometimes      Yes                Yes   \n",
       "4                    No   Sometimes      Yes                Yes   \n",
       "\n",
       "  Space to sleep Space for stuff Wake others? Study space Safe in tent?  \\\n",
       "0             No              No          Yes          No            No   \n",
       "1            Yes             Yes           No          No            No   \n",
       "2            Yes              No          Yes          No            No   \n",
       "3             No             Yes           No          No            No   \n",
       "4             No              No          Yes         Yes            No   \n",
       "\n",
       "  Kids home alone safe?  \n",
       "0                   Yes  \n",
       "1                    No  \n",
       "2                   Yes  \n",
       "3                    No  \n",
       "4                    No  "
      ]
     },
     "execution_count": 258,
     "metadata": {},
     "output_type": "execute_result"
    }
   ],
   "source": [
    "df_lab_base = pd.read_csv('Data/Labodrie Baseline Demographics + Survey - Labodrie Baseline Demographics + Survey.csv', skiprows=[0, 2])\n",
    "\n",
    "# Select relevant columns\n",
    "df_lab_base = df_lab_base[['# of People living in the home', 'Difficulty Sleeping', 'Difficulty Sleeping Frequency', \n",
    "                           'Trouble staying awake due to hunger', 'How often do you get sick?', \n",
    "                          'Diahreea', 'Is the tent at risk of collapse?', \"Do you have space to sleep when you're tired?\", \n",
    "                          'Do you have space to put your personal belongings?', \n",
    "                           'In this tent, if someone wakes up will they wake up others?', 'Do the kids have space to study?',\n",
    "                          'Do you feel safe in your tent?', 'Do you feel comfortable leaving your children at home alone?']]\n",
    "\n",
    "#Shorten column names and make them consistent\n",
    "df_lab_base.rename(columns={\"# of People living in the home\":\"Total Residents\",  \n",
    "                           \"Trouble staying awake due to hunger\": \"Trouble staying awake\", \n",
    "                           \"How often do you get sick?\": \"Sick Freq\", \n",
    "                            \"Diahreea\": \"Diarrhea\",\n",
    "                            \"Is the tent at risk of collapse?\": \"Tent collapse risk\",\n",
    "                           \"Do you have space to sleep when you're tired?\": \"Space to sleep\",\n",
    "                           \"Do you have space to put your personal belongings?\": \"Space for stuff\",\n",
    "                           \"In this tent, if someone wakes up will they wake up others?\": \"Wake others?\",\n",
    "                           \"Do the kids have space to study?\": \"Study space\", \n",
    "                            \"Do you feel safe in your tent?\": \"Safe in tent?\",\n",
    "                    \"Do you feel comfortable leaving your children at home alone?\": \"Kids home alone safe?\"}, inplace=True)\n",
    "\n",
    "# Data cleaning\n",
    "df_lab_base.replace(\"Wi\", \"Yes\", inplace=True)\n",
    "df_lab_base.replace(\"Non\", \"No\", inplace=True)\n",
    "df_lab_base.replace(\"Anpil fwa\", \"Often\", inplace=True)\n",
    "df_lab_base.replace(\"KÃ¨k fwa\", \"Sometimes\", inplace=True)\n",
    "df_lab_base.replace(\"No Response/Cannot Remember\", \"No\", inplace=True)\n",
    "df_lab_base.head()"
   ]
  },
  {
   "cell_type": "code",
   "execution_count": 259,
   "metadata": {},
   "outputs": [
    {
     "data": {
      "text/html": [
       "<div>\n",
       "<style scoped>\n",
       "    .dataframe tbody tr th:only-of-type {\n",
       "        vertical-align: middle;\n",
       "    }\n",
       "\n",
       "    .dataframe tbody tr th {\n",
       "        vertical-align: top;\n",
       "    }\n",
       "\n",
       "    .dataframe thead th {\n",
       "        text-align: right;\n",
       "    }\n",
       "</style>\n",
       "<table border=\"1\" class=\"dataframe\">\n",
       "  <thead>\n",
       "    <tr style=\"text-align: right;\">\n",
       "      <th></th>\n",
       "      <th>Total Residents</th>\n",
       "      <th>Difficulty Sleeping</th>\n",
       "      <th>Difficulty Sleeping Frequency</th>\n",
       "      <th>Trouble staying awake</th>\n",
       "      <th>Sick Freq</th>\n",
       "      <th>Diarrhea</th>\n",
       "      <th>Study space</th>\n",
       "      <th>Safe in tent?</th>\n",
       "      <th>Kids home alone safe?</th>\n",
       "      <th>Wake others?</th>\n",
       "      <th>Space for stuff</th>\n",
       "      <th>Space to sleep</th>\n",
       "      <th>Life satisfaction</th>\n",
       "      <th>Nuclear family?</th>\n",
       "      <th>Better life in future</th>\n",
       "      <th>Better life with hard work</th>\n",
       "    </tr>\n",
       "  </thead>\n",
       "  <tbody>\n",
       "    <tr>\n",
       "      <th>0</th>\n",
       "      <td>10</td>\n",
       "      <td>Yes</td>\n",
       "      <td>Very Often</td>\n",
       "      <td>Yes</td>\n",
       "      <td>Very Often</td>\n",
       "      <td>No</td>\n",
       "      <td>No</td>\n",
       "      <td>Yes</td>\n",
       "      <td>non yo anpil e yo piti</td>\n",
       "      <td>Yes</td>\n",
       "      <td>No</td>\n",
       "      <td>No</td>\n",
       "      <td>Not at all satisfied</td>\n",
       "      <td>3 (Neutral)</td>\n",
       "      <td>Neither agree nor disagree</td>\n",
       "      <td>Neither agree nor disagree</td>\n",
       "    </tr>\n",
       "    <tr>\n",
       "      <th>1</th>\n",
       "      <td>4</td>\n",
       "      <td>Yes</td>\n",
       "      <td>Very Often</td>\n",
       "      <td>Yes</td>\n",
       "      <td>Raman</td>\n",
       "      <td>No</td>\n",
       "      <td>Yes</td>\n",
       "      <td>Yes</td>\n",
       "      <td>mpa renmen kite yo pouko yo, yo tro piti</td>\n",
       "      <td>No</td>\n",
       "      <td>Yes</td>\n",
       "      <td>Yes</td>\n",
       "      <td>Quite satisfied</td>\n",
       "      <td>5 (Strong Nuclear Family)</td>\n",
       "      <td>Somewhat agree</td>\n",
       "      <td>Strongly agree</td>\n",
       "    </tr>\n",
       "    <tr>\n",
       "      <th>2</th>\n",
       "      <td>5</td>\n",
       "      <td>No</td>\n",
       "      <td>NaN</td>\n",
       "      <td>Yes</td>\n",
       "      <td>Very Often</td>\n",
       "      <td>No</td>\n",
       "      <td>Yes</td>\n",
       "      <td>Yes</td>\n",
       "      <td>wi</td>\n",
       "      <td>Yes</td>\n",
       "      <td>No</td>\n",
       "      <td>Yes</td>\n",
       "      <td>Not very satisfied</td>\n",
       "      <td>5 (Strong Nuclear Family)</td>\n",
       "      <td>Somewhat agree</td>\n",
       "      <td>Strongly agree</td>\n",
       "    </tr>\n",
       "    <tr>\n",
       "      <th>3</th>\n",
       "      <td>5</td>\n",
       "      <td>Yes</td>\n",
       "      <td>Very Often</td>\n",
       "      <td>Yes</td>\n",
       "      <td>Very Often</td>\n",
       "      <td>No</td>\n",
       "      <td>Yes</td>\n",
       "      <td>Yes</td>\n",
       "      <td>lajounen wi men pa le soley kouche</td>\n",
       "      <td>Yes</td>\n",
       "      <td>Yes</td>\n",
       "      <td>Yes</td>\n",
       "      <td>Quite satisfied</td>\n",
       "      <td>3 (Neutral)</td>\n",
       "      <td>Strongly agree</td>\n",
       "      <td>Neither agree nor disagree</td>\n",
       "    </tr>\n",
       "    <tr>\n",
       "      <th>4</th>\n",
       "      <td>3</td>\n",
       "      <td>No</td>\n",
       "      <td>NaN</td>\n",
       "      <td>Yes</td>\n",
       "      <td>Very Often</td>\n",
       "      <td>No</td>\n",
       "      <td>No</td>\n",
       "      <td>Yes</td>\n",
       "      <td>yo pa piti</td>\n",
       "      <td>No</td>\n",
       "      <td>Yes</td>\n",
       "      <td>Yes</td>\n",
       "      <td>Quite satisfied</td>\n",
       "      <td>3 (Neutral)</td>\n",
       "      <td>Neither agree nor disagree</td>\n",
       "      <td>Neither agree nor disagree</td>\n",
       "    </tr>\n",
       "  </tbody>\n",
       "</table>\n",
       "</div>"
      ],
      "text/plain": [
       "  Total Residents Difficulty Sleeping Difficulty Sleeping Frequency  \\\n",
       "0              10                 Yes                    Very Often   \n",
       "1               4                 Yes                    Very Often   \n",
       "2               5                  No                           NaN   \n",
       "3               5                 Yes                    Very Often   \n",
       "4               3                  No                           NaN   \n",
       "\n",
       "  Trouble staying awake   Sick Freq Diarrhea Study space Safe in tent?  \\\n",
       "0                   Yes  Very Often       No          No           Yes   \n",
       "1                   Yes       Raman       No         Yes           Yes   \n",
       "2                   Yes  Very Often       No         Yes           Yes   \n",
       "3                   Yes  Very Often       No         Yes           Yes   \n",
       "4                   Yes  Very Often       No          No           Yes   \n",
       "\n",
       "                      Kids home alone safe? Wake others? Space for stuff  \\\n",
       "0                    non yo anpil e yo piti          Yes              No   \n",
       "1  mpa renmen kite yo pouko yo, yo tro piti           No             Yes   \n",
       "2                                        wi          Yes              No   \n",
       "3        lajounen wi men pa le soley kouche          Yes             Yes   \n",
       "4                                yo pa piti           No             Yes   \n",
       "\n",
       "  Space to sleep     Life satisfaction            Nuclear family?  \\\n",
       "0             No  Not at all satisfied                3 (Neutral)   \n",
       "1            Yes       Quite satisfied  5 (Strong Nuclear Family)   \n",
       "2            Yes    Not very satisfied  5 (Strong Nuclear Family)   \n",
       "3            Yes       Quite satisfied                3 (Neutral)   \n",
       "4            Yes       Quite satisfied                3 (Neutral)   \n",
       "\n",
       "        Better life in future  Better life with hard work  \n",
       "0  Neither agree nor disagree  Neither agree nor disagree  \n",
       "1              Somewhat agree              Strongly agree  \n",
       "2              Somewhat agree              Strongly agree  \n",
       "3              Strongly agree  Neither agree nor disagree  \n",
       "4  Neither agree nor disagree  Neither agree nor disagree  "
      ]
     },
     "execution_count": 259,
     "metadata": {},
     "output_type": "execute_result"
    }
   ],
   "source": [
    "df_lab_6month = pd.read_csv('Data/Labodrie 6 month survey (cleaned) - Labodrie 6 month survey (cleaned).csv')\n",
    "\n",
    "# Select relevant columns\n",
    "df_lab_6month = df_lab_6month[['6. ou yon lannwit mwayèn, konbyen moun ki dòmi nan kay la?\\nSleep_Occupants_Total', \n",
    "                              '7. Èske oumenm oswa nenpòt moun ki nan kay la janm gen pwoblèm dòmi?\\nSleep_Difficulty', \n",
    "                              '8. How frequently do you have issues sleeping?\\nSleep_Interruption_Frequency',\n",
    "                              '12. Eske domi nan jew lajounen?\\nTrouble_Staying_Awake', \n",
    "                              '16. Chak kile ou malad?\\nSickness_Frequency', \n",
    "                              '20. Nan 6 denyè  mwa ki sot  pase a, èske gen yon moun nan  kay la ki te gen dyare? \\nSickness_Diarrhea', \n",
    "                              '22. Èske timoun yo gen espas nan kay la pou etidye?\\nSpace_Study_Children', \n",
    "                              '36. Èske w santi w yon sekirite nan kay la?\\nSafe', \n",
    "                              '39. Do you feel safe leaving your children alone at home?\\nSafe_Children_Home_Alone', \n",
    "                              '43. In this home, if someone wakes up, do they wake up the other people?\\nPersonal_Space_Sleep_Disturbance',\n",
    "                              '44. Èske moun kap viv nan kay  la gen kote pou mete efè pèsonèl yo? \\nPersonal_Space',\n",
    "                              '45. Èske ou gen espas ki trankil pou w lage kò w lè’w fatige? \\nRest_Space',\n",
    "                              '46. In general terms, how satisfied are you with life?\\nLife_Satisfaction', \n",
    "                              '48. On a scale from 1(lowest) - 5(highest), do you feel this family has a strong nuclear family.\\nFamily_nuclear', \n",
    "                              '55. I believe I can have a better life in the future\\nGoals_hope', \n",
    "                              '56. I believe I can have a better life if I work harder\\nGoals_work']]\n",
    "\n",
    "#Shorten column names and make them consistent\n",
    "df_lab_6month.rename(columns={\"6. ou yon lannwit mwayèn, konbyen moun ki dòmi nan kay la?\\nSleep_Occupants_Total\":\"Total Residents\", \n",
    "                           \"7. Èske oumenm oswa nenpòt moun ki nan kay la janm gen pwoblèm dòmi?\\nSleep_Difficulty\": \"Difficulty Sleeping\", \n",
    "                            \"8. How frequently do you have issues sleeping?\\nSleep_Interruption_Frequency\": \"Difficulty Sleeping Frequency\",\n",
    "                            \"12. Eske domi nan jew lajounen?\\nTrouble_Staying_Awake\": \"Trouble staying awake\",\n",
    "                            \"16. Chak kile ou malad?\\nSickness_Frequency\": \"Sick Freq\",\n",
    "                            \"20. Nan 6 denyè  mwa ki sot  pase a, èske gen yon moun nan  kay la ki te gen dyare? \\nSickness_Diarrhea\": \"Diarrhea\",\n",
    "                            \"22. Èske timoun yo gen espas nan kay la pou etidye?\\nSpace_Study_Children\": \"Study space\",\n",
    "                            \"36. Èske w santi w yon sekirite nan kay la?\\nSafe\": \"Safe in tent?\",\n",
    "                            \"39. Do you feel safe leaving your children alone at home?\\nSafe_Children_Home_Alone\": \"Kids home alone safe?\",\n",
    "                            \"43. In this home, if someone wakes up, do they wake up the other people?\\nPersonal_Space_Sleep_Disturbance\": \"Wake others?\",\n",
    "                            \"44. Èske moun kap viv nan kay  la gen kote pou mete efè pèsonèl yo? \\nPersonal_Space\": \"Space for stuff\",\n",
    "                            \"45. Èske ou gen espas ki trankil pou w lage kò w lè’w fatige? \\nRest_Space\": \"Space to sleep\",\n",
    "                            \"46. In general terms, how satisfied are you with life?\\nLife_Satisfaction\": \"Life satisfaction\",\n",
    "                            \"48. On a scale from 1(lowest) - 5(highest), do you feel this family has a strong nuclear family.\\nFamily_nuclear\": \"Nuclear family?\",\n",
    "                            \"55. I believe I can have a better life in the future\\nGoals_hope\": \"Better life in future\",\n",
    "                            \"56. I believe I can have a better life if I work harder\\nGoals_work\": \"Better life with hard work\"\n",
    "                             }, inplace=True)\n",
    "\n",
    "# Data cleaning\n",
    "df_lab_6month.replace(\"Wi\", \"Yes\", inplace=True)\n",
    "df_lab_6month.replace(\"Non\", \"No\", inplace=True)\n",
    "df_lab_6month.replace(\"Anpil fwa\", \"Often\", inplace=True)\n",
    "df_lab_6month.replace(\"KÃ¨k fwa\", \"Sometimes\", inplace=True)\n",
    "df_lab_6month.replace(\"TrÃ¨ souvan\", \"Very Often\", inplace=True)\n",
    "df_lab_6month.replace(\"Trè souvan\", \"Very Often\", inplace=True)\n",
    "df_lab_6month.loc[df_lab_6month['Difficulty Sleeping'].str.contains('Wi'), 'Difficulty Sleeping'] = 'Yes'\n",
    "df_lab_6month.loc[df_lab_6month['Difficulty Sleeping'].str.contains('Non'), 'Difficulty Sleeping'] = 'No'\n",
    "df_lab_6month.loc[df_lab_6month['Space to sleep'].str.contains('Wi'), 'Space to sleep'] = 'Yes'\n",
    "df_lab_6month.loc[df_lab_6month['Space to sleep'].str.contains('Non'), 'Space to sleep'] = 'No'\n",
    "df_lab_6month.loc[df_lab_6month['Space for stuff'].str.contains('Wi'), 'Space for stuff'] = 'Yes'\n",
    "df_lab_6month.loc[df_lab_6month['Space for stuff'].str.contains('Non'), 'Space for stuff'] = 'No'\n",
    "df_lab_6month.loc[df_lab_6month['Wake others?'].str.contains('Wi'), 'Wake others?'] = 'Yes'\n",
    "df_lab_6month.loc[df_lab_6month['Wake others?'].str.contains('Non'), 'Wake others?'] = 'No'\n",
    "df_lab_6month.loc[df_lab_6month['Study space'].str.contains('Wi'), 'Study space'] = 'Yes'\n",
    "df_lab_6month.loc[df_lab_6month['Study space'].str.contains('Non'), 'Study space'] = 'No'\n",
    "df_lab_6month.loc[df_lab_6month['Safe in tent?'].str.contains('Wi'), 'Safe in tent?'] = 'Yes'\n",
    "df_lab_6month.loc[df_lab_6month['Safe in tent?'].str.contains('Non'), 'Safe in tent?'] = 'No'\n",
    "df_lab_6month.loc[df_lab_6month['Safe in tent?'].str.contains('Yes | Yes'), 'Safe in tent?'] = 'Yes'\n",
    "df_lab_6month.loc[df_lab_6month['Safe in tent?'].str.contains('No | Yes | Yes'), 'Safe in tent?'] = 'No'\n",
    "df_lab_6month.loc[df_lab_6month['Life satisfaction'].str.contains('Very satisfied | Very satisfied | Not at all satisfied'), 'Life satisfaction'] = 'Very satisfied'\n",
    "df_lab_6month.loc[df_lab_6month['Life satisfaction'].str.contains('Very satisfied | Very satisfied'), 'Life satisfaction'] = 'Very satisfied'\n",
    "df_lab_6month.loc[df_lab_6month['Life satisfaction'].str.contains('Quite satisfied | Quite satisfied'), 'Life satisfaction'] = 'Quite satisfied'\n",
    "df_lab_6month.dropna(subset=['Better life in future'], inplace=True)\n",
    "df_lab_6month.loc[df_lab_6month['Better life in future'].str.contains('Strongly agree | Strongly agree'), 'Better life in future'] = 'Strongly agree'\n",
    "df_lab_6month.loc[df_lab_6month['Better life in future'].str.contains('Somewhat agree | Strongly disagree | Neither agree nor disagree'), 'Better life in future'] = 'Somewhat agree'\n",
    "df_lab_6month.head()\n",
    "#print(df_lab_6month.columns)"
   ]
  },
  {
   "cell_type": "code",
   "execution_count": 260,
   "metadata": {},
   "outputs": [
    {
     "data": {
      "text/html": [
       "<div>\n",
       "<style scoped>\n",
       "    .dataframe tbody tr th:only-of-type {\n",
       "        vertical-align: middle;\n",
       "    }\n",
       "\n",
       "    .dataframe tbody tr th {\n",
       "        vertical-align: top;\n",
       "    }\n",
       "\n",
       "    .dataframe thead th {\n",
       "        text-align: right;\n",
       "    }\n",
       "</style>\n",
       "<table border=\"1\" class=\"dataframe\">\n",
       "  <thead>\n",
       "    <tr style=\"text-align: right;\">\n",
       "      <th></th>\n",
       "      <th>Total Residents</th>\n",
       "      <th>Difficulty Sleeping</th>\n",
       "      <th>Difficulty Sleeping Frequency</th>\n",
       "      <th>Trouble staying awake</th>\n",
       "      <th>Sick Freq</th>\n",
       "      <th>Diarrhea</th>\n",
       "      <th>Tent collapse risk</th>\n",
       "      <th>Steal from tent when absent?</th>\n",
       "      <th>Space to sleep</th>\n",
       "      <th>Space for stuff</th>\n",
       "      <th>Wake others?</th>\n",
       "      <th>Study space</th>\n",
       "      <th>Safe in tent?</th>\n",
       "      <th>Kids home alone safe?</th>\n",
       "    </tr>\n",
       "  </thead>\n",
       "  <tbody>\n",
       "    <tr>\n",
       "      <th>0</th>\n",
       "      <td>3</td>\n",
       "      <td>Yes</td>\n",
       "      <td>Very often</td>\n",
       "      <td>Yes</td>\n",
       "      <td>Very often</td>\n",
       "      <td>Yes</td>\n",
       "      <td>Yes</td>\n",
       "      <td>Yes</td>\n",
       "      <td>Yes</td>\n",
       "      <td>No</td>\n",
       "      <td>No</td>\n",
       "      <td>No</td>\n",
       "      <td>No</td>\n",
       "      <td>No</td>\n",
       "    </tr>\n",
       "    <tr>\n",
       "      <th>1</th>\n",
       "      <td>1</td>\n",
       "      <td>Yes</td>\n",
       "      <td>Very often</td>\n",
       "      <td>Yes</td>\n",
       "      <td>Very often</td>\n",
       "      <td>No</td>\n",
       "      <td>Yes</td>\n",
       "      <td>Yes</td>\n",
       "      <td>No</td>\n",
       "      <td>No</td>\n",
       "      <td>No</td>\n",
       "      <td>No</td>\n",
       "      <td>No</td>\n",
       "      <td>No</td>\n",
       "    </tr>\n",
       "    <tr>\n",
       "      <th>2</th>\n",
       "      <td>1</td>\n",
       "      <td>Yes</td>\n",
       "      <td>Very often</td>\n",
       "      <td>Yes</td>\n",
       "      <td>Very often</td>\n",
       "      <td>No</td>\n",
       "      <td>Yes</td>\n",
       "      <td>Yes</td>\n",
       "      <td>Yes</td>\n",
       "      <td>No</td>\n",
       "      <td>No</td>\n",
       "      <td>No</td>\n",
       "      <td>No</td>\n",
       "      <td>No</td>\n",
       "    </tr>\n",
       "    <tr>\n",
       "      <th>3</th>\n",
       "      <td>7</td>\n",
       "      <td>Yes</td>\n",
       "      <td>Very often</td>\n",
       "      <td>Yes</td>\n",
       "      <td>Very often</td>\n",
       "      <td>Yes</td>\n",
       "      <td>Yes</td>\n",
       "      <td>Yes</td>\n",
       "      <td>No</td>\n",
       "      <td>No</td>\n",
       "      <td>No</td>\n",
       "      <td>No</td>\n",
       "      <td>No</td>\n",
       "      <td>No</td>\n",
       "    </tr>\n",
       "    <tr>\n",
       "      <th>4</th>\n",
       "      <td>3</td>\n",
       "      <td>Yes</td>\n",
       "      <td>Very often</td>\n",
       "      <td>Yes</td>\n",
       "      <td>Sometimes</td>\n",
       "      <td>Yes</td>\n",
       "      <td>Yes</td>\n",
       "      <td>Yes</td>\n",
       "      <td>No</td>\n",
       "      <td>No</td>\n",
       "      <td>No</td>\n",
       "      <td>No</td>\n",
       "      <td>No</td>\n",
       "      <td>No</td>\n",
       "    </tr>\n",
       "  </tbody>\n",
       "</table>\n",
       "</div>"
      ],
      "text/plain": [
       "   Total Residents Difficulty Sleeping Difficulty Sleeping Frequency  \\\n",
       "0                3                 Yes                    Very often   \n",
       "1                1                 Yes                    Very often   \n",
       "2                1                 Yes                    Very often   \n",
       "3                7                 Yes                    Very often   \n",
       "4                3                 Yes                    Very often   \n",
       "\n",
       "  Trouble staying awake   Sick Freq Diarrhea Tent collapse risk  \\\n",
       "0                   Yes  Very often      Yes                Yes   \n",
       "1                   Yes  Very often       No                Yes   \n",
       "2                   Yes  Very often       No                Yes   \n",
       "3                   Yes  Very often      Yes                Yes   \n",
       "4                   Yes   Sometimes      Yes                Yes   \n",
       "\n",
       "  Steal from tent when absent? Space to sleep Space for stuff Wake others?  \\\n",
       "0                          Yes            Yes              No           No   \n",
       "1                          Yes             No              No           No   \n",
       "2                          Yes            Yes              No           No   \n",
       "3                          Yes             No              No           No   \n",
       "4                          Yes             No              No           No   \n",
       "\n",
       "  Study space Safe in tent? Kids home alone safe?  \n",
       "0          No            No                    No  \n",
       "1          No            No                    No  \n",
       "2          No            No                    No  \n",
       "3          No            No                    No  \n",
       "4          No            No                    No  "
      ]
     },
     "execution_count": 260,
     "metadata": {},
     "output_type": "execute_result"
    }
   ],
   "source": [
    "df_tita_base = pd.read_csv('Data/Titanyen Baseline Survey+Recipients.csv')\n",
    "\n",
    "# Select relevant columns\n",
    "df_tita_base = df_tita_base[['# of Tent Residents', 'Sleep - Difficulty Sleeping [Do you ever have issues sleeping?]', \n",
    "                            'Sleep - Frequency [How frequently do you have issues sleeping?]', \n",
    "                            'Do you ever have trouble staying awake during the day?', \n",
    "                            'How often do you get sick?', \n",
    "                             'In the past month, did anyone living in the tent suffer from diarrhea?',\n",
    "                            ' Is there any risk that the tent will collapse?', \n",
    "                             'If you leave your tent are you concerned that someone ll steal from you?',\n",
    "                            'Do you have space to lie down if tired?', \n",
    "                             'Do people living in the tent have space to keep their personal belongings?',\n",
    "                            'In this tent, if someone wakes up, do they wake up the other people? ',\n",
    "                            'Do children have safe places to study?', 'Do you feel safe in your home?', \n",
    "                            'Do you feel safe leaving your children alone at home?']]\n",
    "\n",
    "#Shorten column names and make them consistent\n",
    "df_tita_base.rename(columns={\"# of Tent Residents\": \"Total Residents\",\n",
    "                            \"Sleep - Difficulty Sleeping [Do you ever have issues sleeping?]\": \"Difficulty Sleeping\",\n",
    "                            \"Sleep - Frequency [How frequently do you have issues sleeping?]\": \"Difficulty Sleeping Frequency\",\n",
    "                           \"Do you ever have trouble staying awake during the day?\": \"Trouble staying awake\", \n",
    "                           \"How often do you get sick?\": \"Sick Freq\", \n",
    "                            \"In the past month, did anyone living in the tent suffer from diarrhea?\": \"Diarrhea\",\n",
    "                            \" Is there any risk that the tent will collapse?\": \"Tent collapse risk\",\n",
    "                            \"If you leave your tent are you concerned that someone ll steal from you?\": \"Steal from tent when absent?\",\n",
    "                           \"Do you have space to lie down if tired?\": \"Space to sleep\",\n",
    "                           \"Do people living in the tent have space to keep their personal belongings?\": \"Space for stuff\",\n",
    "                           \"In this tent, if someone wakes up, do they wake up the other people? \": \"Wake others?\",\n",
    "                           \"Do children have safe places to study?\": \"Study space\", \n",
    "                            \"Do you feel safe in your home?\": \"Safe in tent?\",\n",
    "                    \"Do you feel safe leaving your children alone at home?\": \"Kids home alone safe?\"}, inplace=True)\n",
    "\n",
    "# Data cleaning\n",
    "df_tita_base.replace(\"yes\", \"Yes\", inplace=True)\n",
    "df_tita_base.replace(\"no\", \"No\", inplace=True)\n",
    "df_tita_base.replace(\"No Response/Cannot Remember\", \"No\", inplace=True)\n",
    "df_tita_base.head()"
   ]
  },
  {
   "cell_type": "code",
   "execution_count": 261,
   "metadata": {},
   "outputs": [
    {
     "data": {
      "text/html": [
       "<div>\n",
       "<style scoped>\n",
       "    .dataframe tbody tr th:only-of-type {\n",
       "        vertical-align: middle;\n",
       "    }\n",
       "\n",
       "    .dataframe tbody tr th {\n",
       "        vertical-align: top;\n",
       "    }\n",
       "\n",
       "    .dataframe thead th {\n",
       "        text-align: right;\n",
       "    }\n",
       "</style>\n",
       "<table border=\"1\" class=\"dataframe\">\n",
       "  <thead>\n",
       "    <tr style=\"text-align: right;\">\n",
       "      <th></th>\n",
       "      <th>Tent collapse risk</th>\n",
       "      <th>Total Residents</th>\n",
       "      <th>Difficulty Sleeping</th>\n",
       "      <th>Difficulty Sleeping Frequency</th>\n",
       "      <th>Trouble staying awake</th>\n",
       "      <th>Sick Freq</th>\n",
       "      <th>Diarrhea</th>\n",
       "      <th>Steal from tent when absent?</th>\n",
       "      <th>Kids home alone safe?</th>\n",
       "      <th>Safe in tent?</th>\n",
       "      <th>Space to sleep</th>\n",
       "      <th>Wake others?</th>\n",
       "      <th>Study space</th>\n",
       "      <th>Space for stuff</th>\n",
       "    </tr>\n",
       "  </thead>\n",
       "  <tbody>\n",
       "    <tr>\n",
       "      <th>0</th>\n",
       "      <td>Yes</td>\n",
       "      <td>7.0</td>\n",
       "      <td>Yes</td>\n",
       "      <td>Very often</td>\n",
       "      <td>No</td>\n",
       "      <td>Sometimes</td>\n",
       "      <td>Yes</td>\n",
       "      <td>Yes</td>\n",
       "      <td>No</td>\n",
       "      <td>No</td>\n",
       "      <td>Yes</td>\n",
       "      <td>Yes</td>\n",
       "      <td>No</td>\n",
       "      <td>Yes</td>\n",
       "    </tr>\n",
       "    <tr>\n",
       "      <th>1</th>\n",
       "      <td>Yes</td>\n",
       "      <td>8.0</td>\n",
       "      <td>Yes</td>\n",
       "      <td>sometimes</td>\n",
       "      <td>No</td>\n",
       "      <td>Very often</td>\n",
       "      <td>Yes</td>\n",
       "      <td>Yes</td>\n",
       "      <td>No</td>\n",
       "      <td>No</td>\n",
       "      <td>Yes</td>\n",
       "      <td>No</td>\n",
       "      <td>No</td>\n",
       "      <td>Yes</td>\n",
       "    </tr>\n",
       "    <tr>\n",
       "      <th>2</th>\n",
       "      <td>Yes</td>\n",
       "      <td>6.0</td>\n",
       "      <td>Yes</td>\n",
       "      <td>Very often</td>\n",
       "      <td>No</td>\n",
       "      <td>Rarely</td>\n",
       "      <td>No</td>\n",
       "      <td>No</td>\n",
       "      <td>No</td>\n",
       "      <td>No</td>\n",
       "      <td>No</td>\n",
       "      <td>Yes</td>\n",
       "      <td>No</td>\n",
       "      <td>No</td>\n",
       "    </tr>\n",
       "    <tr>\n",
       "      <th>3</th>\n",
       "      <td>No</td>\n",
       "      <td>6.0</td>\n",
       "      <td>No</td>\n",
       "      <td>NaN</td>\n",
       "      <td>No</td>\n",
       "      <td>Rarely</td>\n",
       "      <td>Yes</td>\n",
       "      <td>No</td>\n",
       "      <td>No</td>\n",
       "      <td>Yes</td>\n",
       "      <td>Yes</td>\n",
       "      <td>No</td>\n",
       "      <td>No</td>\n",
       "      <td>Yes</td>\n",
       "    </tr>\n",
       "    <tr>\n",
       "      <th>4</th>\n",
       "      <td>Yes</td>\n",
       "      <td>4.0</td>\n",
       "      <td>No</td>\n",
       "      <td>No</td>\n",
       "      <td>No</td>\n",
       "      <td>Rarely</td>\n",
       "      <td>No</td>\n",
       "      <td>No</td>\n",
       "      <td>Yes</td>\n",
       "      <td>No</td>\n",
       "      <td>Yes</td>\n",
       "      <td>No</td>\n",
       "      <td>Yes</td>\n",
       "      <td>Yes</td>\n",
       "    </tr>\n",
       "  </tbody>\n",
       "</table>\n",
       "</div>"
      ],
      "text/plain": [
       "  Tent collapse risk  Total Residents Difficulty Sleeping  \\\n",
       "0                Yes              7.0                 Yes   \n",
       "1                Yes              8.0                 Yes   \n",
       "2                Yes              6.0                 Yes   \n",
       "3                 No              6.0                  No   \n",
       "4                Yes              4.0                  No   \n",
       "\n",
       "  Difficulty Sleeping Frequency Trouble staying awake   Sick Freq Diarrhea  \\\n",
       "0                    Very often                    No   Sometimes      Yes   \n",
       "1                     sometimes                    No  Very often      Yes   \n",
       "2                    Very often                    No      Rarely       No   \n",
       "3                           NaN                    No      Rarely      Yes   \n",
       "4                            No                    No      Rarely       No   \n",
       "\n",
       "  Steal from tent when absent? Kids home alone safe? Safe in tent?  \\\n",
       "0                          Yes                    No            No   \n",
       "1                          Yes                    No            No   \n",
       "2                           No                    No            No   \n",
       "3                           No                    No           Yes   \n",
       "4                           No                   Yes            No   \n",
       "\n",
       "  Space to sleep Wake others? Study space Space for stuff  \n",
       "0            Yes          Yes          No             Yes  \n",
       "1            Yes           No          No             Yes  \n",
       "2             No          Yes          No              No  \n",
       "3            Yes           No          No             Yes  \n",
       "4            Yes           No         Yes             Yes  "
      ]
     },
     "execution_count": 261,
     "metadata": {},
     "output_type": "execute_result"
    }
   ],
   "source": [
    "df_ahu_base_surv = pd.read_csv('Data/Ahuachapan Baseline Survey.csv', skiprows=[0])\n",
    "\n",
    "# Select relevant columns\n",
    "df_ahu_base_surv = df_ahu_base_surv[['Is there any risk that the home will collapse?', \n",
    "                                     '# of People Living full time in Home', \n",
    "                                     'Sleep - Difficulty Sleeping [Do ever have issues sleeping?]',\n",
    "                                    'Sleep - Frequency [How frequently do you have issues sleeping?]',\n",
    "                                    'Do you ever have trouble staying awake during the day because of hunger?',\n",
    "                                    'How often do you get sick?', \n",
    "                                    'In the past month, did anyone living in the tent suffer from diarrhea?',\n",
    "                                    'If you leave your tent are you concerned that someone will steal from you?', \n",
    "                                    'Do you feel safe leaving your children alone at home?', \n",
    "                                    'Do you feel safe in your home?', \n",
    "                                    'Do you have space to lie down if tired?', \n",
    "                                    'In this tent, if someone wakes up, do they wake up the other people? ', \n",
    "                                    'Do children have safe places to study?', \n",
    "                                    'Do people living in the home have space to keep their personal belongings?']]\n",
    "\n",
    "#Shorten column names and make them consistent\n",
    "df_ahu_base_surv.rename(columns={\"Is there any risk that the home will collapse?\": \"Tent collapse risk\", \n",
    "                            \"# of People Living full time in Home\": \"Total Residents\",\n",
    "                            \"Sleep - Difficulty Sleeping [Do ever have issues sleeping?]\": \"Difficulty Sleeping\",\n",
    "                            \"Sleep - Frequency [How frequently do you have issues sleeping?]\": \"Difficulty Sleeping Frequency\",\n",
    "                           \"Do you ever have trouble staying awake during the day because of hunger?\": \"Trouble staying awake\", \n",
    "                           \"How often do you get sick?\": \"Sick Freq\", \n",
    "                            \"In the past month, did anyone living in the tent suffer from diarrhea?\": \"Diarrhea\",\n",
    "                            \"If you leave your tent are you concerned that someone will steal from you?\": \"Steal from tent when absent?\",\n",
    "                            \"Do you feel safe leaving your children alone at home?\": \"Kids home alone safe?\",\n",
    "                            \"Do you feel safe in your home?\": \"Safe in tent?\",\n",
    "                            \"Do you have space to lie down if tired?\": \"Space to sleep\",\n",
    "                            \"In this tent, if someone wakes up, do they wake up the other people? \": \"Wake others?\",\n",
    "                            \"Do children have safe places to study?\": \"Study space\",\n",
    "                            \"Do people living in the home have space to keep their personal belongings?\": \"Space for stuff\"}\n",
    "                        , inplace=True)\n",
    "\n",
    "#Data cleaning\n",
    "df_ahu_base_surv.replace(\"yes\", \"Yes\", inplace=True)\n",
    "df_ahu_base_surv.replace(\"no\", \"No\", inplace=True)\n",
    "df_ahu_base_surv.replace(\"No \", \"No\", inplace=True)\n",
    "df_ahu_base_surv.replace(\"yes, on the patio\", \"Yes\", inplace=True)\n",
    "df_ahu_base_surv.replace(\"yes, in the patio\", \"Yes\", inplace=True)\n",
    "df_ahu_base_surv.replace(\"No Response/Cannot Remember\", \"No\", inplace=True)\n",
    "df_ahu_base_surv['Space to sleep'].replace(\"very often\", \"Yes\", inplace=True)\n",
    "df_ahu_base_surv.head()"
   ]
  },
  {
   "cell_type": "code",
   "execution_count": 262,
   "metadata": {},
   "outputs": [
    {
     "data": {
      "application/vnd.plotly.v1+json": {
       "data": [
        {
         "name": "Labodrie Baseline",
         "type": "bar",
         "x": [
          "Yes",
          "No"
         ],
         "y": [
          92,
          33
         ]
        },
        {
         "name": "Ahuachapan Baseline",
         "type": "bar",
         "x": [
          "Yes",
          "No"
         ],
         "y": [
          23,
          89
         ]
        },
        {
         "name": "Titanyen Baseline",
         "type": "bar",
         "x": [
          "Yes",
          "No"
         ],
         "y": [
          416,
          109
         ]
        }
       ],
       "layout": {
        "barmode": "group",
        "title": "Difficulty sleeping in tent?",
        "xaxis": {
         "titlefont": {
          "color": "#7f7f7f",
          "family": "Courier New, monospace",
          "size": 18
         }
        },
        "yaxis": {
         "titlefont": {
          "color": "#7f7f7f",
          "family": "Courier New, monospace",
          "size": 18
         }
        }
       }
      },
      "text/html": [
       "<div id=\"b71df176-1f86-4462-9c30-ef5090729c60\" style=\"height: 525px; width: 100%;\" class=\"plotly-graph-div\"></div><script type=\"text/javascript\">require([\"plotly\"], function(Plotly) { window.PLOTLYENV=window.PLOTLYENV || {};window.PLOTLYENV.BASE_URL=\"https://plot.ly\";Plotly.newPlot(\"b71df176-1f86-4462-9c30-ef5090729c60\", [{\"type\": \"bar\", \"x\": [\"Yes\", \"No\"], \"y\": [92, 33], \"name\": \"Labodrie Baseline\"}, {\"type\": \"bar\", \"x\": [\"Yes\", \"No\"], \"y\": [23, 89], \"name\": \"Ahuachapan Baseline\"}, {\"type\": \"bar\", \"x\": [\"Yes\", \"No\"], \"y\": [416, 109], \"name\": \"Titanyen Baseline\"}], {\"barmode\": \"group\", \"title\": \"Difficulty sleeping in tent?\", \"xaxis\": {\"titlefont\": {\"family\": \"Courier New, monospace\", \"size\": 18, \"color\": \"#7f7f7f\"}}, \"yaxis\": {\"titlefont\": {\"family\": \"Courier New, monospace\", \"size\": 18, \"color\": \"#7f7f7f\"}}}, {\"showLink\": true, \"linkText\": \"Export to plot.ly\"})});</script>"
      ],
      "text/vnd.plotly.v1+html": [
       "<div id=\"b71df176-1f86-4462-9c30-ef5090729c60\" style=\"height: 525px; width: 100%;\" class=\"plotly-graph-div\"></div><script type=\"text/javascript\">require([\"plotly\"], function(Plotly) { window.PLOTLYENV=window.PLOTLYENV || {};window.PLOTLYENV.BASE_URL=\"https://plot.ly\";Plotly.newPlot(\"b71df176-1f86-4462-9c30-ef5090729c60\", [{\"type\": \"bar\", \"x\": [\"Yes\", \"No\"], \"y\": [92, 33], \"name\": \"Labodrie Baseline\"}, {\"type\": \"bar\", \"x\": [\"Yes\", \"No\"], \"y\": [23, 89], \"name\": \"Ahuachapan Baseline\"}, {\"type\": \"bar\", \"x\": [\"Yes\", \"No\"], \"y\": [416, 109], \"name\": \"Titanyen Baseline\"}], {\"barmode\": \"group\", \"title\": \"Difficulty sleeping in tent?\", \"xaxis\": {\"titlefont\": {\"family\": \"Courier New, monospace\", \"size\": 18, \"color\": \"#7f7f7f\"}}, \"yaxis\": {\"titlefont\": {\"family\": \"Courier New, monospace\", \"size\": 18, \"color\": \"#7f7f7f\"}}}, {\"showLink\": true, \"linkText\": \"Export to plot.ly\"})});</script>"
      ]
     },
     "metadata": {},
     "output_type": "display_data"
    }
   ],
   "source": [
    "# First comparing the three baseline communities, graph 1 is difficulty sleeping in tent\n",
    "trace1 = go.Bar(\n",
    "    x=df_lab_base['Difficulty Sleeping'].value_counts().index.tolist(),\n",
    "    y=df_lab_base['Difficulty Sleeping'].value_counts().values.tolist(),\n",
    "    name='Labodrie Baseline'\n",
    ")\n",
    "trace2 = go.Bar(\n",
    "    x=df_ahu_base_surv['Difficulty Sleeping'].value_counts().sort_index(ascending=False).index.tolist(),\n",
    "    y=df_ahu_base_surv['Difficulty Sleeping'].value_counts().sort_index(ascending=False).values.tolist(),\n",
    "    name='Ahuachapan Baseline'\n",
    ")\n",
    "trace3 = go.Bar(\n",
    "    x=df_tita_base['Difficulty Sleeping'].value_counts().index.tolist(),\n",
    "    y=df_tita_base['Difficulty Sleeping'].value_counts().values.tolist(),\n",
    "    name='Titanyen Baseline'\n",
    ")\n",
    "\n",
    "data = [trace1, trace2, trace3]\n",
    "layout = go.Layout(\n",
    "    barmode='group',\n",
    "    title='Difficulty sleeping in tent?',\n",
    "    xaxis=dict(\n",
    "        #title='',\n",
    "        titlefont=dict(\n",
    "            family='Courier New, monospace',\n",
    "            size=18,\n",
    "            color='#7f7f7f'\n",
    "        )\n",
    "    ),\n",
    "    yaxis=dict(\n",
    "        #title='',\n",
    "        titlefont=dict(\n",
    "            family='Courier New, monospace',\n",
    "            size=18,\n",
    "            color='#7f7f7f'\n",
    "        )\n",
    "    )\n",
    ")\n",
    "\n",
    "fig = go.Figure(data=data, layout=layout)\n",
    "py.iplot(fig, filename='a')"
   ]
  },
  {
   "cell_type": "code",
   "execution_count": 263,
   "metadata": {},
   "outputs": [
    {
     "data": {
      "application/vnd.plotly.v1+json": {
       "data": [
        {
         "name": "Labodrie Baseline",
         "type": "bar",
         "x": [
          "Yes",
          "No"
         ],
         "y": [
          78,
          47
         ]
        },
        {
         "name": "Ahuachapan Baseline",
         "type": "bar",
         "x": [
          "Yes",
          "No"
         ],
         "y": [
          39,
          20
         ]
        },
        {
         "name": "Titanyen Baseline",
         "type": "bar",
         "x": [
          "Yes",
          "No"
         ],
         "y": [
          514,
          11
         ]
        }
       ],
       "layout": {
        "barmode": "group",
        "title": "Is the tent at risk of collapsing?",
        "xaxis": {
         "titlefont": {
          "color": "#7f7f7f",
          "family": "Courier New, monospace",
          "size": 18
         }
        },
        "yaxis": {
         "titlefont": {
          "color": "#7f7f7f",
          "family": "Courier New, monospace",
          "size": 18
         }
        }
       }
      },
      "text/html": [
       "<div id=\"d31fe12c-7fcc-43e2-b1ec-2bff45cf3218\" style=\"height: 525px; width: 100%;\" class=\"plotly-graph-div\"></div><script type=\"text/javascript\">require([\"plotly\"], function(Plotly) { window.PLOTLYENV=window.PLOTLYENV || {};window.PLOTLYENV.BASE_URL=\"https://plot.ly\";Plotly.newPlot(\"d31fe12c-7fcc-43e2-b1ec-2bff45cf3218\", [{\"type\": \"bar\", \"x\": [\"Yes\", \"No\"], \"y\": [78, 47], \"name\": \"Labodrie Baseline\"}, {\"type\": \"bar\", \"x\": [\"Yes\", \"No\"], \"y\": [39, 20], \"name\": \"Ahuachapan Baseline\"}, {\"type\": \"bar\", \"x\": [\"Yes\", \"No\"], \"y\": [514, 11], \"name\": \"Titanyen Baseline\"}], {\"barmode\": \"group\", \"title\": \"Is the tent at risk of collapsing?\", \"xaxis\": {\"titlefont\": {\"family\": \"Courier New, monospace\", \"size\": 18, \"color\": \"#7f7f7f\"}}, \"yaxis\": {\"titlefont\": {\"family\": \"Courier New, monospace\", \"size\": 18, \"color\": \"#7f7f7f\"}}}, {\"showLink\": true, \"linkText\": \"Export to plot.ly\"})});</script>"
      ],
      "text/vnd.plotly.v1+html": [
       "<div id=\"d31fe12c-7fcc-43e2-b1ec-2bff45cf3218\" style=\"height: 525px; width: 100%;\" class=\"plotly-graph-div\"></div><script type=\"text/javascript\">require([\"plotly\"], function(Plotly) { window.PLOTLYENV=window.PLOTLYENV || {};window.PLOTLYENV.BASE_URL=\"https://plot.ly\";Plotly.newPlot(\"d31fe12c-7fcc-43e2-b1ec-2bff45cf3218\", [{\"type\": \"bar\", \"x\": [\"Yes\", \"No\"], \"y\": [78, 47], \"name\": \"Labodrie Baseline\"}, {\"type\": \"bar\", \"x\": [\"Yes\", \"No\"], \"y\": [39, 20], \"name\": \"Ahuachapan Baseline\"}, {\"type\": \"bar\", \"x\": [\"Yes\", \"No\"], \"y\": [514, 11], \"name\": \"Titanyen Baseline\"}], {\"barmode\": \"group\", \"title\": \"Is the tent at risk of collapsing?\", \"xaxis\": {\"titlefont\": {\"family\": \"Courier New, monospace\", \"size\": 18, \"color\": \"#7f7f7f\"}}, \"yaxis\": {\"titlefont\": {\"family\": \"Courier New, monospace\", \"size\": 18, \"color\": \"#7f7f7f\"}}}, {\"showLink\": true, \"linkText\": \"Export to plot.ly\"})});</script>"
      ]
     },
     "metadata": {},
     "output_type": "display_data"
    }
   ],
   "source": [
    "# Tent at risk of collapse\n",
    "trace1 = go.Bar(\n",
    "    x=df_lab_base['Tent collapse risk'].value_counts().sort_index(ascending=False).index.tolist(),\n",
    "    y=df_lab_base['Tent collapse risk'].value_counts().sort_index(ascending=False).values.tolist(),\n",
    "    name='Labodrie Baseline'\n",
    ")\n",
    "trace2 = go.Bar(\n",
    "    x=df_ahu_base_surv['Tent collapse risk'].value_counts().sort_index(ascending=False).index.tolist(),\n",
    "    y=df_ahu_base_surv['Tent collapse risk'].value_counts().sort_index(ascending=False).values.tolist(),\n",
    "    name='Ahuachapan Baseline'\n",
    ")\n",
    "trace3 = go.Bar(\n",
    "    x=df_tita_base['Tent collapse risk'].value_counts().sort_index(ascending=False).index.tolist(),\n",
    "    y=df_tita_base['Tent collapse risk'].value_counts().sort_index(ascending=False).values.tolist(),\n",
    "    name='Titanyen Baseline'\n",
    ")\n",
    "\n",
    "data = [trace1, trace2, trace3]\n",
    "layout = go.Layout(\n",
    "    barmode='group',\n",
    "    title='Is the tent at risk of collapsing?',\n",
    "    xaxis=dict(\n",
    "        #title='',\n",
    "        titlefont=dict(\n",
    "            family='Courier New, monospace',\n",
    "            size=18,\n",
    "            color='#7f7f7f'\n",
    "        )\n",
    "    ),\n",
    "    yaxis=dict(\n",
    "        #title='',\n",
    "        titlefont=dict(\n",
    "            family='Courier New, monospace',\n",
    "            size=18,\n",
    "            color='#7f7f7f'\n",
    "        )\n",
    "    )\n",
    ")\n",
    "\n",
    "fig = go.Figure(data=data, layout=layout)\n",
    "py.iplot(fig, filename='a')"
   ]
  },
  {
   "cell_type": "code",
   "execution_count": 264,
   "metadata": {},
   "outputs": [
    {
     "data": {
      "application/vnd.plotly.v1+json": {
       "data": [
        {
         "name": "Labodrie Baseline",
         "type": "bar",
         "x": [
          "Yes",
          "No"
         ],
         "y": [
          57,
          68
         ]
        },
        {
         "name": "Ahuachapan Baseline",
         "type": "bar",
         "x": [
          "Yes",
          "No"
         ],
         "y": [
          43,
          49
         ]
        },
        {
         "name": "Titanyen Baseline",
         "type": "bar",
         "x": [
          "Yes",
          "No"
         ],
         "y": [
          21,
          504
         ]
        }
       ],
       "layout": {
        "barmode": "group",
        "title": "Do you have space to sleep?",
        "xaxis": {
         "titlefont": {
          "color": "#7f7f7f",
          "family": "Courier New, monospace",
          "size": 18
         }
        },
        "yaxis": {
         "titlefont": {
          "color": "#7f7f7f",
          "family": "Courier New, monospace",
          "size": 18
         }
        }
       }
      },
      "text/html": [
       "<div id=\"417fe4e5-1795-4336-9c3c-304372f988ab\" style=\"height: 525px; width: 100%;\" class=\"plotly-graph-div\"></div><script type=\"text/javascript\">require([\"plotly\"], function(Plotly) { window.PLOTLYENV=window.PLOTLYENV || {};window.PLOTLYENV.BASE_URL=\"https://plot.ly\";Plotly.newPlot(\"417fe4e5-1795-4336-9c3c-304372f988ab\", [{\"type\": \"bar\", \"x\": [\"Yes\", \"No\"], \"y\": [57, 68], \"name\": \"Labodrie Baseline\"}, {\"type\": \"bar\", \"x\": [\"Yes\", \"No\"], \"y\": [43, 49], \"name\": \"Ahuachapan Baseline\"}, {\"type\": \"bar\", \"x\": [\"Yes\", \"No\"], \"y\": [21, 504], \"name\": \"Titanyen Baseline\"}], {\"barmode\": \"group\", \"title\": \"Do you have space to sleep?\", \"xaxis\": {\"titlefont\": {\"family\": \"Courier New, monospace\", \"size\": 18, \"color\": \"#7f7f7f\"}}, \"yaxis\": {\"titlefont\": {\"family\": \"Courier New, monospace\", \"size\": 18, \"color\": \"#7f7f7f\"}}}, {\"showLink\": true, \"linkText\": \"Export to plot.ly\"})});</script>"
      ],
      "text/vnd.plotly.v1+html": [
       "<div id=\"417fe4e5-1795-4336-9c3c-304372f988ab\" style=\"height: 525px; width: 100%;\" class=\"plotly-graph-div\"></div><script type=\"text/javascript\">require([\"plotly\"], function(Plotly) { window.PLOTLYENV=window.PLOTLYENV || {};window.PLOTLYENV.BASE_URL=\"https://plot.ly\";Plotly.newPlot(\"417fe4e5-1795-4336-9c3c-304372f988ab\", [{\"type\": \"bar\", \"x\": [\"Yes\", \"No\"], \"y\": [57, 68], \"name\": \"Labodrie Baseline\"}, {\"type\": \"bar\", \"x\": [\"Yes\", \"No\"], \"y\": [43, 49], \"name\": \"Ahuachapan Baseline\"}, {\"type\": \"bar\", \"x\": [\"Yes\", \"No\"], \"y\": [21, 504], \"name\": \"Titanyen Baseline\"}], {\"barmode\": \"group\", \"title\": \"Do you have space to sleep?\", \"xaxis\": {\"titlefont\": {\"family\": \"Courier New, monospace\", \"size\": 18, \"color\": \"#7f7f7f\"}}, \"yaxis\": {\"titlefont\": {\"family\": \"Courier New, monospace\", \"size\": 18, \"color\": \"#7f7f7f\"}}}, {\"showLink\": true, \"linkText\": \"Export to plot.ly\"})});</script>"
      ]
     },
     "metadata": {},
     "output_type": "display_data"
    }
   ],
   "source": [
    "trace1 = go.Bar(\n",
    "    x=df_lab_base['Space to sleep'].value_counts().sort_index(ascending=False).index.tolist(),\n",
    "    y=df_lab_base['Space to sleep'].value_counts().sort_index(ascending=False).values.tolist(),\n",
    "    name='Labodrie Baseline'\n",
    ")\n",
    "trace2 = go.Bar(\n",
    "    x=df_ahu_base_surv['Space to sleep'].value_counts().sort_index(ascending=False).index.tolist(),\n",
    "    y=df_ahu_base_surv['Space to sleep'].value_counts().sort_index(ascending=False).values.tolist(),\n",
    "    name='Ahuachapan Baseline'\n",
    ")\n",
    "trace3 = go.Bar(\n",
    "    x=df_tita_base['Space to sleep'].value_counts().sort_index(ascending=False).index.tolist(),\n",
    "    y=df_tita_base['Space to sleep'].value_counts().sort_index(ascending=False).values.tolist(),\n",
    "    name='Titanyen Baseline'\n",
    ")\n",
    "\n",
    "data = [trace1, trace2, trace3]\n",
    "layout = go.Layout(\n",
    "    barmode='group',\n",
    "    title='Do you have space to sleep?',\n",
    "    xaxis=dict(\n",
    "        #title='',\n",
    "        titlefont=dict(\n",
    "            family='Courier New, monospace',\n",
    "            size=18,\n",
    "            color='#7f7f7f'\n",
    "        )\n",
    "    ),\n",
    "    yaxis=dict(\n",
    "        #title='',\n",
    "        titlefont=dict(\n",
    "            family='Courier New, monospace',\n",
    "            size=18,\n",
    "            color='#7f7f7f'\n",
    "        )\n",
    "    )\n",
    ")\n",
    "\n",
    "fig = go.Figure(data=data, layout=layout)\n",
    "py.iplot(fig, filename='a')"
   ]
  },
  {
   "cell_type": "code",
   "execution_count": 265,
   "metadata": {},
   "outputs": [
    {
     "data": {
      "application/vnd.plotly.v1+json": {
       "data": [
        {
         "name": "Labodrie Baseline",
         "type": "bar",
         "x": [
          "Yes",
          "No"
         ],
         "y": [
          27,
          98
         ]
        },
        {
         "name": "Ahuachapan Baseline",
         "type": "bar",
         "x": [
          "Yes",
          "No"
         ],
         "y": [
          22,
          35
         ]
        },
        {
         "name": "Titanyen Baseline",
         "type": "bar",
         "x": [
          "Yes",
          "No"
         ],
         "y": [
          12,
          513
         ]
        }
       ],
       "layout": {
        "barmode": "group",
        "title": "Do you have space for your personal belongings?",
        "xaxis": {
         "titlefont": {
          "color": "#7f7f7f",
          "family": "Courier New, monospace",
          "size": 18
         }
        },
        "yaxis": {
         "titlefont": {
          "color": "#7f7f7f",
          "family": "Courier New, monospace",
          "size": 18
         }
        }
       }
      },
      "text/html": [
       "<div id=\"ca8302ca-a4ba-4c74-8c89-d1585fbf16c3\" style=\"height: 525px; width: 100%;\" class=\"plotly-graph-div\"></div><script type=\"text/javascript\">require([\"plotly\"], function(Plotly) { window.PLOTLYENV=window.PLOTLYENV || {};window.PLOTLYENV.BASE_URL=\"https://plot.ly\";Plotly.newPlot(\"ca8302ca-a4ba-4c74-8c89-d1585fbf16c3\", [{\"type\": \"bar\", \"x\": [\"Yes\", \"No\"], \"y\": [27, 98], \"name\": \"Labodrie Baseline\"}, {\"type\": \"bar\", \"x\": [\"Yes\", \"No\"], \"y\": [22, 35], \"name\": \"Ahuachapan Baseline\"}, {\"type\": \"bar\", \"x\": [\"Yes\", \"No\"], \"y\": [12, 513], \"name\": \"Titanyen Baseline\"}], {\"barmode\": \"group\", \"title\": \"Do you have space for your personal belongings?\", \"xaxis\": {\"titlefont\": {\"family\": \"Courier New, monospace\", \"size\": 18, \"color\": \"#7f7f7f\"}}, \"yaxis\": {\"titlefont\": {\"family\": \"Courier New, monospace\", \"size\": 18, \"color\": \"#7f7f7f\"}}}, {\"showLink\": true, \"linkText\": \"Export to plot.ly\"})});</script>"
      ],
      "text/vnd.plotly.v1+html": [
       "<div id=\"ca8302ca-a4ba-4c74-8c89-d1585fbf16c3\" style=\"height: 525px; width: 100%;\" class=\"plotly-graph-div\"></div><script type=\"text/javascript\">require([\"plotly\"], function(Plotly) { window.PLOTLYENV=window.PLOTLYENV || {};window.PLOTLYENV.BASE_URL=\"https://plot.ly\";Plotly.newPlot(\"ca8302ca-a4ba-4c74-8c89-d1585fbf16c3\", [{\"type\": \"bar\", \"x\": [\"Yes\", \"No\"], \"y\": [27, 98], \"name\": \"Labodrie Baseline\"}, {\"type\": \"bar\", \"x\": [\"Yes\", \"No\"], \"y\": [22, 35], \"name\": \"Ahuachapan Baseline\"}, {\"type\": \"bar\", \"x\": [\"Yes\", \"No\"], \"y\": [12, 513], \"name\": \"Titanyen Baseline\"}], {\"barmode\": \"group\", \"title\": \"Do you have space for your personal belongings?\", \"xaxis\": {\"titlefont\": {\"family\": \"Courier New, monospace\", \"size\": 18, \"color\": \"#7f7f7f\"}}, \"yaxis\": {\"titlefont\": {\"family\": \"Courier New, monospace\", \"size\": 18, \"color\": \"#7f7f7f\"}}}, {\"showLink\": true, \"linkText\": \"Export to plot.ly\"})});</script>"
      ]
     },
     "metadata": {},
     "output_type": "display_data"
    }
   ],
   "source": [
    "trace1 = go.Bar(\n",
    "    x=df_lab_base['Space for stuff'].value_counts().sort_index(ascending=False).index.tolist(),\n",
    "    y=df_lab_base['Space for stuff'].value_counts().sort_index(ascending=False).values.tolist(),\n",
    "    name='Labodrie Baseline'\n",
    ")\n",
    "trace2 = go.Bar(\n",
    "    x=df_ahu_base_surv['Space for stuff'].value_counts().sort_index(ascending=False).index.tolist(),\n",
    "    y=df_ahu_base_surv['Space for stuff'].value_counts().sort_index(ascending=False).values.tolist(),\n",
    "    name='Ahuachapan Baseline'\n",
    ")\n",
    "trace3 = go.Bar(\n",
    "    x=df_tita_base['Space for stuff'].value_counts().sort_index(ascending=False).index.tolist(),\n",
    "    y=df_tita_base['Space for stuff'].value_counts().sort_index(ascending=False).values.tolist(),\n",
    "    name='Titanyen Baseline'\n",
    ")\n",
    "\n",
    "data = [trace1, trace2, trace3]\n",
    "layout = go.Layout(\n",
    "    barmode='group',\n",
    "    title='Do you have space for your personal belongings?',\n",
    "    xaxis=dict(\n",
    "        #title='',\n",
    "        titlefont=dict(\n",
    "            family='Courier New, monospace',\n",
    "            size=18,\n",
    "            color='#7f7f7f'\n",
    "        )\n",
    "    ),\n",
    "    yaxis=dict(\n",
    "        #title='',\n",
    "        titlefont=dict(\n",
    "            family='Courier New, monospace',\n",
    "            size=18,\n",
    "            color='#7f7f7f'\n",
    "        )\n",
    "    )\n",
    ")\n",
    "\n",
    "fig = go.Figure(data=data, layout=layout)\n",
    "py.iplot(fig, filename='a')"
   ]
  },
  {
   "cell_type": "code",
   "execution_count": 266,
   "metadata": {},
   "outputs": [
    {
     "data": {
      "application/vnd.plotly.v1+json": {
       "data": [
        {
         "name": "Labodrie Baseline",
         "type": "bar",
         "x": [
          "Yes",
          "No"
         ],
         "y": [
          86,
          39
         ]
        },
        {
         "name": "Ahuachapan Baseline",
         "type": "bar",
         "x": [
          "Yes",
          "No"
         ],
         "y": [
          61,
          30
         ]
        },
        {
         "name": "Titanyen Baseline",
         "type": "bar",
         "x": [
          "Yes",
          "No"
         ],
         "y": [
          66,
          456
         ]
        }
       ],
       "layout": {
        "barmode": "group",
        "title": "When you wake up at night, do you wake others?",
        "xaxis": {
         "titlefont": {
          "color": "#7f7f7f",
          "family": "Courier New, monospace",
          "size": 18
         }
        },
        "yaxis": {
         "titlefont": {
          "color": "#7f7f7f",
          "family": "Courier New, monospace",
          "size": 18
         }
        }
       }
      },
      "text/html": [
       "<div id=\"30be4826-8775-4854-9611-e98b1b3145f1\" style=\"height: 525px; width: 100%;\" class=\"plotly-graph-div\"></div><script type=\"text/javascript\">require([\"plotly\"], function(Plotly) { window.PLOTLYENV=window.PLOTLYENV || {};window.PLOTLYENV.BASE_URL=\"https://plot.ly\";Plotly.newPlot(\"30be4826-8775-4854-9611-e98b1b3145f1\", [{\"type\": \"bar\", \"x\": [\"Yes\", \"No\"], \"y\": [86, 39], \"name\": \"Labodrie Baseline\"}, {\"type\": \"bar\", \"x\": [\"Yes\", \"No\"], \"y\": [61, 30], \"name\": \"Ahuachapan Baseline\"}, {\"type\": \"bar\", \"x\": [\"Yes\", \"No\"], \"y\": [66, 456], \"name\": \"Titanyen Baseline\"}], {\"barmode\": \"group\", \"title\": \"When you wake up at night, do you wake others?\", \"xaxis\": {\"titlefont\": {\"family\": \"Courier New, monospace\", \"size\": 18, \"color\": \"#7f7f7f\"}}, \"yaxis\": {\"titlefont\": {\"family\": \"Courier New, monospace\", \"size\": 18, \"color\": \"#7f7f7f\"}}}, {\"showLink\": true, \"linkText\": \"Export to plot.ly\"})});</script>"
      ],
      "text/vnd.plotly.v1+html": [
       "<div id=\"30be4826-8775-4854-9611-e98b1b3145f1\" style=\"height: 525px; width: 100%;\" class=\"plotly-graph-div\"></div><script type=\"text/javascript\">require([\"plotly\"], function(Plotly) { window.PLOTLYENV=window.PLOTLYENV || {};window.PLOTLYENV.BASE_URL=\"https://plot.ly\";Plotly.newPlot(\"30be4826-8775-4854-9611-e98b1b3145f1\", [{\"type\": \"bar\", \"x\": [\"Yes\", \"No\"], \"y\": [86, 39], \"name\": \"Labodrie Baseline\"}, {\"type\": \"bar\", \"x\": [\"Yes\", \"No\"], \"y\": [61, 30], \"name\": \"Ahuachapan Baseline\"}, {\"type\": \"bar\", \"x\": [\"Yes\", \"No\"], \"y\": [66, 456], \"name\": \"Titanyen Baseline\"}], {\"barmode\": \"group\", \"title\": \"When you wake up at night, do you wake others?\", \"xaxis\": {\"titlefont\": {\"family\": \"Courier New, monospace\", \"size\": 18, \"color\": \"#7f7f7f\"}}, \"yaxis\": {\"titlefont\": {\"family\": \"Courier New, monospace\", \"size\": 18, \"color\": \"#7f7f7f\"}}}, {\"showLink\": true, \"linkText\": \"Export to plot.ly\"})});</script>"
      ]
     },
     "metadata": {},
     "output_type": "display_data"
    }
   ],
   "source": [
    "trace1 = go.Bar(\n",
    "    x=df_lab_base['Wake others?'].value_counts().sort_index(ascending=False).index.tolist(),\n",
    "    y=df_lab_base['Wake others?'].value_counts().sort_index(ascending=False).values.tolist(),\n",
    "    name='Labodrie Baseline'\n",
    ")\n",
    "trace2 = go.Bar(\n",
    "    x=df_ahu_base_surv['Wake others?'].value_counts().sort_index(ascending=False).index.tolist(),\n",
    "    y=df_ahu_base_surv['Wake others?'].value_counts().sort_index(ascending=False).values.tolist(),\n",
    "    name='Ahuachapan Baseline'\n",
    ")\n",
    "trace3 = go.Bar(\n",
    "    x=df_tita_base['Wake others?'].value_counts().sort_index(ascending=False).index.tolist(),\n",
    "    y=df_tita_base['Wake others?'].value_counts().sort_index(ascending=False).values.tolist(),\n",
    "    name='Titanyen Baseline'\n",
    ")\n",
    "\n",
    "data = [trace1, trace2, trace3]\n",
    "layout = go.Layout(\n",
    "    barmode='group',\n",
    "    title='When you wake up at night, do you wake others?',\n",
    "    xaxis=dict(\n",
    "        #title='',\n",
    "        titlefont=dict(\n",
    "            family='Courier New, monospace',\n",
    "            size=18,\n",
    "            color='#7f7f7f'\n",
    "        )\n",
    "    ),\n",
    "    yaxis=dict(\n",
    "        #title='',\n",
    "        titlefont=dict(\n",
    "            family='Courier New, monospace',\n",
    "            size=18,\n",
    "            color='#7f7f7f'\n",
    "        )\n",
    "    )\n",
    ")\n",
    "\n",
    "fig = go.Figure(data=data, layout=layout)\n",
    "py.iplot(fig, filename='a')"
   ]
  },
  {
   "cell_type": "code",
   "execution_count": 267,
   "metadata": {},
   "outputs": [
    {
     "data": {
      "application/vnd.plotly.v1+json": {
       "data": [
        {
         "name": "Labodrie Baseline",
         "type": "bar",
         "x": [
          "Yes",
          "No"
         ],
         "y": [
          26,
          99
         ]
        },
        {
         "name": "Ahuachapan Baseline",
         "type": "bar",
         "x": [
          "Yes",
          "No"
         ],
         "y": [
          21,
          69
         ]
        },
        {
         "name": "Titanyen Baseline",
         "type": "bar",
         "x": [
          "Yes",
          "No"
         ],
         "y": [
          8,
          517
         ]
        }
       ],
       "layout": {
        "barmode": "group",
        "title": "Do kids have space to study?",
        "xaxis": {
         "titlefont": {
          "color": "#7f7f7f",
          "family": "Courier New, monospace",
          "size": 18
         }
        },
        "yaxis": {
         "titlefont": {
          "color": "#7f7f7f",
          "family": "Courier New, monospace",
          "size": 18
         }
        }
       }
      },
      "text/html": [
       "<div id=\"96ca7474-c2d4-4dc9-92e2-adc403acfd26\" style=\"height: 525px; width: 100%;\" class=\"plotly-graph-div\"></div><script type=\"text/javascript\">require([\"plotly\"], function(Plotly) { window.PLOTLYENV=window.PLOTLYENV || {};window.PLOTLYENV.BASE_URL=\"https://plot.ly\";Plotly.newPlot(\"96ca7474-c2d4-4dc9-92e2-adc403acfd26\", [{\"type\": \"bar\", \"x\": [\"Yes\", \"No\"], \"y\": [26, 99], \"name\": \"Labodrie Baseline\"}, {\"type\": \"bar\", \"x\": [\"Yes\", \"No\"], \"y\": [21, 69], \"name\": \"Ahuachapan Baseline\"}, {\"type\": \"bar\", \"x\": [\"Yes\", \"No\"], \"y\": [8, 517], \"name\": \"Titanyen Baseline\"}], {\"barmode\": \"group\", \"title\": \"Do kids have space to study?\", \"xaxis\": {\"titlefont\": {\"family\": \"Courier New, monospace\", \"size\": 18, \"color\": \"#7f7f7f\"}}, \"yaxis\": {\"titlefont\": {\"family\": \"Courier New, monospace\", \"size\": 18, \"color\": \"#7f7f7f\"}}}, {\"showLink\": true, \"linkText\": \"Export to plot.ly\"})});</script>"
      ],
      "text/vnd.plotly.v1+html": [
       "<div id=\"96ca7474-c2d4-4dc9-92e2-adc403acfd26\" style=\"height: 525px; width: 100%;\" class=\"plotly-graph-div\"></div><script type=\"text/javascript\">require([\"plotly\"], function(Plotly) { window.PLOTLYENV=window.PLOTLYENV || {};window.PLOTLYENV.BASE_URL=\"https://plot.ly\";Plotly.newPlot(\"96ca7474-c2d4-4dc9-92e2-adc403acfd26\", [{\"type\": \"bar\", \"x\": [\"Yes\", \"No\"], \"y\": [26, 99], \"name\": \"Labodrie Baseline\"}, {\"type\": \"bar\", \"x\": [\"Yes\", \"No\"], \"y\": [21, 69], \"name\": \"Ahuachapan Baseline\"}, {\"type\": \"bar\", \"x\": [\"Yes\", \"No\"], \"y\": [8, 517], \"name\": \"Titanyen Baseline\"}], {\"barmode\": \"group\", \"title\": \"Do kids have space to study?\", \"xaxis\": {\"titlefont\": {\"family\": \"Courier New, monospace\", \"size\": 18, \"color\": \"#7f7f7f\"}}, \"yaxis\": {\"titlefont\": {\"family\": \"Courier New, monospace\", \"size\": 18, \"color\": \"#7f7f7f\"}}}, {\"showLink\": true, \"linkText\": \"Export to plot.ly\"})});</script>"
      ]
     },
     "metadata": {},
     "output_type": "display_data"
    }
   ],
   "source": [
    "trace1 = go.Bar(\n",
    "    x=df_lab_base['Study space'].value_counts().sort_index(ascending=False).index.tolist(),\n",
    "    y=df_lab_base['Study space'].value_counts().sort_index(ascending=False).values.tolist(),\n",
    "    name='Labodrie Baseline'\n",
    ")\n",
    "trace2 = go.Bar(\n",
    "    x=df_ahu_base_surv['Study space'].value_counts().sort_index(ascending=False).index.tolist(),\n",
    "    y=df_ahu_base_surv['Study space'].value_counts().sort_index(ascending=False).values.tolist(),\n",
    "    name='Ahuachapan Baseline'\n",
    ")\n",
    "trace3 = go.Bar(\n",
    "    x=df_tita_base['Study space'].value_counts().sort_index(ascending=False).index.tolist(),\n",
    "    y=df_tita_base['Study space'].value_counts().sort_index(ascending=False).values.tolist(),\n",
    "    name='Titanyen Baseline'\n",
    ")\n",
    "\n",
    "data = [trace1, trace2, trace3]\n",
    "layout = go.Layout(\n",
    "    barmode='group',\n",
    "    title='Do kids have space to study?',\n",
    "    xaxis=dict(\n",
    "        #title='',\n",
    "        titlefont=dict(\n",
    "            family='Courier New, monospace',\n",
    "            size=18,\n",
    "            color='#7f7f7f'\n",
    "        )\n",
    "    ),\n",
    "    yaxis=dict(\n",
    "        #title='',\n",
    "        titlefont=dict(\n",
    "            family='Courier New, monospace',\n",
    "            size=18,\n",
    "            color='#7f7f7f'\n",
    "        )\n",
    "    )\n",
    ")\n",
    "\n",
    "fig = go.Figure(data=data, layout=layout)\n",
    "py.iplot(fig, filename='a')"
   ]
  },
  {
   "cell_type": "code",
   "execution_count": 268,
   "metadata": {},
   "outputs": [
    {
     "data": {
      "application/vnd.plotly.v1+json": {
       "data": [
        {
         "name": "Labodrie Baseline",
         "type": "bar",
         "x": [
          "Yes",
          "No"
         ],
         "y": [
          31,
          94
         ]
        },
        {
         "name": "Ahuachapan Baseline",
         "type": "bar",
         "x": [
          "Yes",
          "No"
         ],
         "y": [
          32,
          49
         ]
        },
        {
         "name": "Titanyen Baseline",
         "type": "bar",
         "x": [
          "Yes",
          "No"
         ],
         "y": [
          278,
          248
         ]
        }
       ],
       "layout": {
        "barmode": "group",
        "title": "Do you feel safe in tent?",
        "xaxis": {
         "titlefont": {
          "color": "#7f7f7f",
          "family": "Courier New, monospace",
          "size": 18
         }
        },
        "yaxis": {
         "titlefont": {
          "color": "#7f7f7f",
          "family": "Courier New, monospace",
          "size": 18
         }
        }
       }
      },
      "text/html": [
       "<div id=\"a181217a-77d8-4237-aef1-05a5b22ac8d7\" style=\"height: 525px; width: 100%;\" class=\"plotly-graph-div\"></div><script type=\"text/javascript\">require([\"plotly\"], function(Plotly) { window.PLOTLYENV=window.PLOTLYENV || {};window.PLOTLYENV.BASE_URL=\"https://plot.ly\";Plotly.newPlot(\"a181217a-77d8-4237-aef1-05a5b22ac8d7\", [{\"type\": \"bar\", \"x\": [\"Yes\", \"No\"], \"y\": [31, 94], \"name\": \"Labodrie Baseline\"}, {\"type\": \"bar\", \"x\": [\"Yes\", \"No\"], \"y\": [32, 49], \"name\": \"Ahuachapan Baseline\"}, {\"type\": \"bar\", \"x\": [\"Yes\", \"No\"], \"y\": [278, 248], \"name\": \"Titanyen Baseline\"}], {\"barmode\": \"group\", \"title\": \"Do you feel safe in tent?\", \"xaxis\": {\"titlefont\": {\"family\": \"Courier New, monospace\", \"size\": 18, \"color\": \"#7f7f7f\"}}, \"yaxis\": {\"titlefont\": {\"family\": \"Courier New, monospace\", \"size\": 18, \"color\": \"#7f7f7f\"}}}, {\"showLink\": true, \"linkText\": \"Export to plot.ly\"})});</script>"
      ],
      "text/vnd.plotly.v1+html": [
       "<div id=\"a181217a-77d8-4237-aef1-05a5b22ac8d7\" style=\"height: 525px; width: 100%;\" class=\"plotly-graph-div\"></div><script type=\"text/javascript\">require([\"plotly\"], function(Plotly) { window.PLOTLYENV=window.PLOTLYENV || {};window.PLOTLYENV.BASE_URL=\"https://plot.ly\";Plotly.newPlot(\"a181217a-77d8-4237-aef1-05a5b22ac8d7\", [{\"type\": \"bar\", \"x\": [\"Yes\", \"No\"], \"y\": [31, 94], \"name\": \"Labodrie Baseline\"}, {\"type\": \"bar\", \"x\": [\"Yes\", \"No\"], \"y\": [32, 49], \"name\": \"Ahuachapan Baseline\"}, {\"type\": \"bar\", \"x\": [\"Yes\", \"No\"], \"y\": [278, 248], \"name\": \"Titanyen Baseline\"}], {\"barmode\": \"group\", \"title\": \"Do you feel safe in tent?\", \"xaxis\": {\"titlefont\": {\"family\": \"Courier New, monospace\", \"size\": 18, \"color\": \"#7f7f7f\"}}, \"yaxis\": {\"titlefont\": {\"family\": \"Courier New, monospace\", \"size\": 18, \"color\": \"#7f7f7f\"}}}, {\"showLink\": true, \"linkText\": \"Export to plot.ly\"})});</script>"
      ]
     },
     "metadata": {},
     "output_type": "display_data"
    }
   ],
   "source": [
    "trace1 = go.Bar(\n",
    "    x=df_lab_base['Safe in tent?'].value_counts().sort_index(ascending=False).index.tolist(),\n",
    "    y=df_lab_base['Safe in tent?'].value_counts().sort_index(ascending=False).values.tolist(),\n",
    "    name='Labodrie Baseline'\n",
    ")\n",
    "trace2 = go.Bar(\n",
    "    x=df_ahu_base_surv['Safe in tent?'].value_counts().sort_index(ascending=False).index.tolist(),\n",
    "    y=df_ahu_base_surv['Safe in tent?'].value_counts().sort_index(ascending=False).values.tolist(),\n",
    "    name='Ahuachapan Baseline'\n",
    ")\n",
    "trace3 = go.Bar(\n",
    "    x=df_tita_base['Safe in tent?'].value_counts().sort_index(ascending=False).index.tolist(),\n",
    "    y=df_tita_base['Safe in tent?'].value_counts().sort_index(ascending=False).values.tolist(),\n",
    "    name='Titanyen Baseline'\n",
    ")\n",
    "\n",
    "data = [trace1, trace2, trace3]\n",
    "layout = go.Layout(\n",
    "    barmode='group',\n",
    "    title='Do you feel safe in tent?',\n",
    "    xaxis=dict(\n",
    "        #title='',\n",
    "        titlefont=dict(\n",
    "            family='Courier New, monospace',\n",
    "            size=18,\n",
    "            color='#7f7f7f'\n",
    "        )\n",
    "    ),\n",
    "    yaxis=dict(\n",
    "        #title='',\n",
    "        titlefont=dict(\n",
    "            family='Courier New, monospace',\n",
    "            size=18,\n",
    "            color='#7f7f7f'\n",
    "        )\n",
    "    )\n",
    ")\n",
    "\n",
    "fig = go.Figure(data=data, layout=layout)\n",
    "py.iplot(fig, filename='a')"
   ]
  },
  {
   "cell_type": "code",
   "execution_count": 269,
   "metadata": {},
   "outputs": [
    {
     "data": {
      "application/vnd.plotly.v1+json": {
       "data": [
        {
         "name": "Labodrie Baseline",
         "type": "bar",
         "x": [
          "Yes",
          "No"
         ],
         "y": [
          92,
          33
         ]
        },
        {
         "name": "Labodrie 6 month",
         "type": "bar",
         "x": [
          "Yes",
          "No"
         ],
         "y": [
          62,
          56
         ]
        }
       ],
       "layout": {
        "barmode": "group",
        "title": "Difficulty Sleeping",
        "xaxis": {
         "titlefont": {
          "color": "#7f7f7f",
          "family": "Courier New, monospace",
          "size": 18
         }
        },
        "yaxis": {
         "titlefont": {
          "color": "#7f7f7f",
          "family": "Courier New, monospace",
          "size": 18
         }
        }
       }
      },
      "text/html": [
       "<div id=\"5a947b96-9365-4041-be21-59ce18e51dee\" style=\"height: 525px; width: 100%;\" class=\"plotly-graph-div\"></div><script type=\"text/javascript\">require([\"plotly\"], function(Plotly) { window.PLOTLYENV=window.PLOTLYENV || {};window.PLOTLYENV.BASE_URL=\"https://plot.ly\";Plotly.newPlot(\"5a947b96-9365-4041-be21-59ce18e51dee\", [{\"type\": \"bar\", \"x\": [\"Yes\", \"No\"], \"y\": [92, 33], \"name\": \"Labodrie Baseline\"}, {\"type\": \"bar\", \"x\": [\"Yes\", \"No\"], \"y\": [62, 56], \"name\": \"Labodrie 6 month\"}], {\"barmode\": \"group\", \"title\": \"Difficulty Sleeping\", \"xaxis\": {\"titlefont\": {\"family\": \"Courier New, monospace\", \"size\": 18, \"color\": \"#7f7f7f\"}}, \"yaxis\": {\"titlefont\": {\"family\": \"Courier New, monospace\", \"size\": 18, \"color\": \"#7f7f7f\"}}}, {\"showLink\": true, \"linkText\": \"Export to plot.ly\"})});</script>"
      ],
      "text/vnd.plotly.v1+html": [
       "<div id=\"5a947b96-9365-4041-be21-59ce18e51dee\" style=\"height: 525px; width: 100%;\" class=\"plotly-graph-div\"></div><script type=\"text/javascript\">require([\"plotly\"], function(Plotly) { window.PLOTLYENV=window.PLOTLYENV || {};window.PLOTLYENV.BASE_URL=\"https://plot.ly\";Plotly.newPlot(\"5a947b96-9365-4041-be21-59ce18e51dee\", [{\"type\": \"bar\", \"x\": [\"Yes\", \"No\"], \"y\": [92, 33], \"name\": \"Labodrie Baseline\"}, {\"type\": \"bar\", \"x\": [\"Yes\", \"No\"], \"y\": [62, 56], \"name\": \"Labodrie 6 month\"}], {\"barmode\": \"group\", \"title\": \"Difficulty Sleeping\", \"xaxis\": {\"titlefont\": {\"family\": \"Courier New, monospace\", \"size\": 18, \"color\": \"#7f7f7f\"}}, \"yaxis\": {\"titlefont\": {\"family\": \"Courier New, monospace\", \"size\": 18, \"color\": \"#7f7f7f\"}}}, {\"showLink\": true, \"linkText\": \"Export to plot.ly\"})});</script>"
      ]
     },
     "metadata": {},
     "output_type": "display_data"
    }
   ],
   "source": [
    "# Now visualizing the difference in the Labodrie community before and after housing, graph 1 is difficulty sleeping\n",
    "trace1 = go.Bar(\n",
    "    x=df_lab_base['Difficulty Sleeping'].value_counts().sort_index(ascending=False).index.tolist(),\n",
    "    y=df_lab_base['Difficulty Sleeping'].value_counts().sort_index(ascending=False).values.tolist(),\n",
    "    name='Labodrie Baseline'\n",
    ")\n",
    "trace2 = go.Bar(\n",
    "    x=df_lab_6month['Difficulty Sleeping'].value_counts().sort_index(ascending=False).index.tolist(),\n",
    "    y=df_lab_6month['Difficulty Sleeping'].value_counts().sort_index(ascending=False).values.tolist(),\n",
    "    name='Labodrie 6 month'\n",
    ")\n",
    "\n",
    "data = [trace1, trace2]\n",
    "layout = go.Layout(\n",
    "    barmode='group',\n",
    "    title='Difficulty Sleeping',\n",
    "    xaxis=dict(\n",
    "        #title='',\n",
    "        titlefont=dict(\n",
    "            family='Courier New, monospace',\n",
    "            size=18,\n",
    "            color='#7f7f7f'\n",
    "        )\n",
    "    ),\n",
    "    yaxis=dict(\n",
    "        #title='',\n",
    "        titlefont=dict(\n",
    "            family='Courier New, monospace',\n",
    "            size=18,\n",
    "            color='#7f7f7f'\n",
    "        )\n",
    "    )\n",
    ")\n",
    "\n",
    "fig = go.Figure(data=data, layout=layout)\n",
    "py.iplot(fig, filename='a')"
   ]
  },
  {
   "cell_type": "code",
   "execution_count": 270,
   "metadata": {},
   "outputs": [
    {
     "data": {
      "application/vnd.plotly.v1+json": {
       "data": [
        {
         "name": "Labodrie Baseline",
         "type": "bar",
         "x": [
          "Yes",
          "No"
         ],
         "y": [
          57,
          68
         ]
        },
        {
         "name": "Labodrie 6 month",
         "type": "bar",
         "x": [
          "Yes",
          "No"
         ],
         "y": [
          105,
          13
         ]
        }
       ],
       "layout": {
        "barmode": "group",
        "title": "Do you have space to sleep?",
        "xaxis": {
         "titlefont": {
          "color": "#7f7f7f",
          "family": "Courier New, monospace",
          "size": 18
         }
        },
        "yaxis": {
         "titlefont": {
          "color": "#7f7f7f",
          "family": "Courier New, monospace",
          "size": 18
         }
        }
       }
      },
      "text/html": [
       "<div id=\"37de2eaa-3ed3-4542-ab2b-9477def6133e\" style=\"height: 525px; width: 100%;\" class=\"plotly-graph-div\"></div><script type=\"text/javascript\">require([\"plotly\"], function(Plotly) { window.PLOTLYENV=window.PLOTLYENV || {};window.PLOTLYENV.BASE_URL=\"https://plot.ly\";Plotly.newPlot(\"37de2eaa-3ed3-4542-ab2b-9477def6133e\", [{\"type\": \"bar\", \"x\": [\"Yes\", \"No\"], \"y\": [57, 68], \"name\": \"Labodrie Baseline\"}, {\"type\": \"bar\", \"x\": [\"Yes\", \"No\"], \"y\": [105, 13], \"name\": \"Labodrie 6 month\"}], {\"barmode\": \"group\", \"title\": \"Do you have space to sleep?\", \"xaxis\": {\"titlefont\": {\"family\": \"Courier New, monospace\", \"size\": 18, \"color\": \"#7f7f7f\"}}, \"yaxis\": {\"titlefont\": {\"family\": \"Courier New, monospace\", \"size\": 18, \"color\": \"#7f7f7f\"}}}, {\"showLink\": true, \"linkText\": \"Export to plot.ly\"})});</script>"
      ],
      "text/vnd.plotly.v1+html": [
       "<div id=\"37de2eaa-3ed3-4542-ab2b-9477def6133e\" style=\"height: 525px; width: 100%;\" class=\"plotly-graph-div\"></div><script type=\"text/javascript\">require([\"plotly\"], function(Plotly) { window.PLOTLYENV=window.PLOTLYENV || {};window.PLOTLYENV.BASE_URL=\"https://plot.ly\";Plotly.newPlot(\"37de2eaa-3ed3-4542-ab2b-9477def6133e\", [{\"type\": \"bar\", \"x\": [\"Yes\", \"No\"], \"y\": [57, 68], \"name\": \"Labodrie Baseline\"}, {\"type\": \"bar\", \"x\": [\"Yes\", \"No\"], \"y\": [105, 13], \"name\": \"Labodrie 6 month\"}], {\"barmode\": \"group\", \"title\": \"Do you have space to sleep?\", \"xaxis\": {\"titlefont\": {\"family\": \"Courier New, monospace\", \"size\": 18, \"color\": \"#7f7f7f\"}}, \"yaxis\": {\"titlefont\": {\"family\": \"Courier New, monospace\", \"size\": 18, \"color\": \"#7f7f7f\"}}}, {\"showLink\": true, \"linkText\": \"Export to plot.ly\"})});</script>"
      ]
     },
     "metadata": {},
     "output_type": "display_data"
    }
   ],
   "source": [
    "trace1 = go.Bar(\n",
    "    x=df_lab_base['Space to sleep'].value_counts().sort_index(ascending=False).index.tolist(),\n",
    "    y=df_lab_base['Space to sleep'].value_counts().sort_index(ascending=False).values.tolist(),\n",
    "    name='Labodrie Baseline'\n",
    ")\n",
    "trace2 = go.Bar(\n",
    "    x=df_lab_6month['Space to sleep'].value_counts().sort_index(ascending=False).index.tolist(),\n",
    "    y=df_lab_6month['Space to sleep'].value_counts().sort_index(ascending=False).values.tolist(),\n",
    "    name='Labodrie 6 month'\n",
    ")\n",
    "\n",
    "data = [trace1, trace2]\n",
    "layout = go.Layout(\n",
    "    barmode='group',\n",
    "    title='Do you have space to sleep?',\n",
    "    xaxis=dict(\n",
    "        #title='',\n",
    "        titlefont=dict(\n",
    "            family='Courier New, monospace',\n",
    "            size=18,\n",
    "            color='#7f7f7f'\n",
    "        )\n",
    "    ),\n",
    "    yaxis=dict(\n",
    "        #title='',\n",
    "        titlefont=dict(\n",
    "            family='Courier New, monospace',\n",
    "            size=18,\n",
    "            color='#7f7f7f'\n",
    "        )\n",
    "    )\n",
    ")\n",
    "\n",
    "fig = go.Figure(data=data, layout=layout)\n",
    "py.iplot(fig, filename='a')"
   ]
  },
  {
   "cell_type": "code",
   "execution_count": 271,
   "metadata": {},
   "outputs": [
    {
     "data": {
      "application/vnd.plotly.v1+json": {
       "data": [
        {
         "name": "Labodrie Baseline",
         "type": "bar",
         "x": [
          "Yes",
          "No"
         ],
         "y": [
          27,
          98
         ]
        },
        {
         "name": "Labodrie 6 month",
         "type": "bar",
         "x": [
          "Yes",
          "No"
         ],
         "y": [
          94,
          24
         ]
        }
       ],
       "layout": {
        "barmode": "group",
        "title": "Do you have space for personal belongings?",
        "xaxis": {
         "titlefont": {
          "color": "#7f7f7f",
          "family": "Courier New, monospace",
          "size": 18
         }
        },
        "yaxis": {
         "titlefont": {
          "color": "#7f7f7f",
          "family": "Courier New, monospace",
          "size": 18
         }
        }
       }
      },
      "text/html": [
       "<div id=\"e1d9334b-0c1d-49aa-8900-d9af542531df\" style=\"height: 525px; width: 100%;\" class=\"plotly-graph-div\"></div><script type=\"text/javascript\">require([\"plotly\"], function(Plotly) { window.PLOTLYENV=window.PLOTLYENV || {};window.PLOTLYENV.BASE_URL=\"https://plot.ly\";Plotly.newPlot(\"e1d9334b-0c1d-49aa-8900-d9af542531df\", [{\"type\": \"bar\", \"x\": [\"Yes\", \"No\"], \"y\": [27, 98], \"name\": \"Labodrie Baseline\"}, {\"type\": \"bar\", \"x\": [\"Yes\", \"No\"], \"y\": [94, 24], \"name\": \"Labodrie 6 month\"}], {\"barmode\": \"group\", \"title\": \"Do you have space for personal belongings?\", \"xaxis\": {\"titlefont\": {\"family\": \"Courier New, monospace\", \"size\": 18, \"color\": \"#7f7f7f\"}}, \"yaxis\": {\"titlefont\": {\"family\": \"Courier New, monospace\", \"size\": 18, \"color\": \"#7f7f7f\"}}}, {\"showLink\": true, \"linkText\": \"Export to plot.ly\"})});</script>"
      ],
      "text/vnd.plotly.v1+html": [
       "<div id=\"e1d9334b-0c1d-49aa-8900-d9af542531df\" style=\"height: 525px; width: 100%;\" class=\"plotly-graph-div\"></div><script type=\"text/javascript\">require([\"plotly\"], function(Plotly) { window.PLOTLYENV=window.PLOTLYENV || {};window.PLOTLYENV.BASE_URL=\"https://plot.ly\";Plotly.newPlot(\"e1d9334b-0c1d-49aa-8900-d9af542531df\", [{\"type\": \"bar\", \"x\": [\"Yes\", \"No\"], \"y\": [27, 98], \"name\": \"Labodrie Baseline\"}, {\"type\": \"bar\", \"x\": [\"Yes\", \"No\"], \"y\": [94, 24], \"name\": \"Labodrie 6 month\"}], {\"barmode\": \"group\", \"title\": \"Do you have space for personal belongings?\", \"xaxis\": {\"titlefont\": {\"family\": \"Courier New, monospace\", \"size\": 18, \"color\": \"#7f7f7f\"}}, \"yaxis\": {\"titlefont\": {\"family\": \"Courier New, monospace\", \"size\": 18, \"color\": \"#7f7f7f\"}}}, {\"showLink\": true, \"linkText\": \"Export to plot.ly\"})});</script>"
      ]
     },
     "metadata": {},
     "output_type": "display_data"
    }
   ],
   "source": [
    "trace1 = go.Bar(\n",
    "    x=df_lab_base['Space for stuff'].value_counts().sort_index(ascending=False).index.tolist(),\n",
    "    y=df_lab_base['Space for stuff'].value_counts().sort_index(ascending=False).values.tolist(),\n",
    "    name='Labodrie Baseline'\n",
    ")\n",
    "trace2 = go.Bar(\n",
    "    x=df_lab_6month['Space for stuff'].value_counts().sort_index(ascending=False).index.tolist(),\n",
    "    y=df_lab_6month['Space for stuff'].value_counts().sort_index(ascending=False).values.tolist(),\n",
    "    name='Labodrie 6 month'\n",
    ")\n",
    "\n",
    "data = [trace1, trace2]\n",
    "layout = go.Layout(\n",
    "    barmode='group',\n",
    "    title='Do you have space for personal belongings?',\n",
    "    xaxis=dict(\n",
    "        #title='',\n",
    "        titlefont=dict(\n",
    "            family='Courier New, monospace',\n",
    "            size=18,\n",
    "            color='#7f7f7f'\n",
    "        )\n",
    "    ),\n",
    "    yaxis=dict(\n",
    "        #title='',\n",
    "        titlefont=dict(\n",
    "            family='Courier New, monospace',\n",
    "            size=18,\n",
    "            color='#7f7f7f'\n",
    "        )\n",
    "    )\n",
    ")\n",
    "\n",
    "fig = go.Figure(data=data, layout=layout)\n",
    "py.iplot(fig, filename='a')"
   ]
  },
  {
   "cell_type": "code",
   "execution_count": 272,
   "metadata": {},
   "outputs": [
    {
     "data": {
      "application/vnd.plotly.v1+json": {
       "data": [
        {
         "name": "Labodrie Baseline",
         "type": "bar",
         "x": [
          "Yes",
          "No"
         ],
         "y": [
          86,
          39
         ]
        },
        {
         "name": "Labodrie 6 month",
         "type": "bar",
         "x": [
          "Yes",
          "No"
         ],
         "y": [
          19,
          99
         ]
        }
       ],
       "layout": {
        "barmode": "group",
        "title": "When you wake up at night, do you wake others?",
        "xaxis": {
         "titlefont": {
          "color": "#7f7f7f",
          "family": "Courier New, monospace",
          "size": 18
         }
        },
        "yaxis": {
         "titlefont": {
          "color": "#7f7f7f",
          "family": "Courier New, monospace",
          "size": 18
         }
        }
       }
      },
      "text/html": [
       "<div id=\"9a84c773-3e6d-49ed-8f2f-98b49323ba96\" style=\"height: 525px; width: 100%;\" class=\"plotly-graph-div\"></div><script type=\"text/javascript\">require([\"plotly\"], function(Plotly) { window.PLOTLYENV=window.PLOTLYENV || {};window.PLOTLYENV.BASE_URL=\"https://plot.ly\";Plotly.newPlot(\"9a84c773-3e6d-49ed-8f2f-98b49323ba96\", [{\"type\": \"bar\", \"x\": [\"Yes\", \"No\"], \"y\": [86, 39], \"name\": \"Labodrie Baseline\"}, {\"type\": \"bar\", \"x\": [\"Yes\", \"No\"], \"y\": [19, 99], \"name\": \"Labodrie 6 month\"}], {\"barmode\": \"group\", \"title\": \"When you wake up at night, do you wake others?\", \"xaxis\": {\"titlefont\": {\"family\": \"Courier New, monospace\", \"size\": 18, \"color\": \"#7f7f7f\"}}, \"yaxis\": {\"titlefont\": {\"family\": \"Courier New, monospace\", \"size\": 18, \"color\": \"#7f7f7f\"}}}, {\"showLink\": true, \"linkText\": \"Export to plot.ly\"})});</script>"
      ],
      "text/vnd.plotly.v1+html": [
       "<div id=\"9a84c773-3e6d-49ed-8f2f-98b49323ba96\" style=\"height: 525px; width: 100%;\" class=\"plotly-graph-div\"></div><script type=\"text/javascript\">require([\"plotly\"], function(Plotly) { window.PLOTLYENV=window.PLOTLYENV || {};window.PLOTLYENV.BASE_URL=\"https://plot.ly\";Plotly.newPlot(\"9a84c773-3e6d-49ed-8f2f-98b49323ba96\", [{\"type\": \"bar\", \"x\": [\"Yes\", \"No\"], \"y\": [86, 39], \"name\": \"Labodrie Baseline\"}, {\"type\": \"bar\", \"x\": [\"Yes\", \"No\"], \"y\": [19, 99], \"name\": \"Labodrie 6 month\"}], {\"barmode\": \"group\", \"title\": \"When you wake up at night, do you wake others?\", \"xaxis\": {\"titlefont\": {\"family\": \"Courier New, monospace\", \"size\": 18, \"color\": \"#7f7f7f\"}}, \"yaxis\": {\"titlefont\": {\"family\": \"Courier New, monospace\", \"size\": 18, \"color\": \"#7f7f7f\"}}}, {\"showLink\": true, \"linkText\": \"Export to plot.ly\"})});</script>"
      ]
     },
     "metadata": {},
     "output_type": "display_data"
    }
   ],
   "source": [
    "trace1 = go.Bar(\n",
    "    x=df_lab_base['Wake others?'].value_counts().sort_index(ascending=False).index.tolist(),\n",
    "    y=df_lab_base['Wake others?'].value_counts().sort_index(ascending=False).values.tolist(),\n",
    "    name='Labodrie Baseline'\n",
    ")\n",
    "trace2 = go.Bar(\n",
    "    x=df_lab_6month['Wake others?'].value_counts().sort_index(ascending=False).index.tolist(),\n",
    "    y=df_lab_6month['Wake others?'].value_counts().sort_index(ascending=False).values.tolist(),\n",
    "    name='Labodrie 6 month'\n",
    ")\n",
    "\n",
    "data = [trace1, trace2]\n",
    "layout = go.Layout(\n",
    "    barmode='group',\n",
    "    title='When you wake up at night, do you wake others?',\n",
    "    xaxis=dict(\n",
    "        #title='',\n",
    "        titlefont=dict(\n",
    "            family='Courier New, monospace',\n",
    "            size=18,\n",
    "            color='#7f7f7f'\n",
    "        )\n",
    "    ),\n",
    "    yaxis=dict(\n",
    "        #title='',\n",
    "        titlefont=dict(\n",
    "            family='Courier New, monospace',\n",
    "            size=18,\n",
    "            color='#7f7f7f'\n",
    "        )\n",
    "    )\n",
    ")\n",
    "\n",
    "fig = go.Figure(data=data, layout=layout)\n",
    "py.iplot(fig, filename='a')"
   ]
  },
  {
   "cell_type": "code",
   "execution_count": 273,
   "metadata": {},
   "outputs": [
    {
     "data": {
      "application/vnd.plotly.v1+json": {
       "data": [
        {
         "name": "Labodrie Baseline",
         "type": "bar",
         "x": [
          "Yes",
          "No"
         ],
         "y": [
          26,
          99
         ]
        },
        {
         "name": "Labodrie 6 month",
         "type": "bar",
         "x": [
          "Yes",
          "No"
         ],
         "y": [
          92,
          26
         ]
        }
       ],
       "layout": {
        "barmode": "group",
        "title": "Do kids have space to study?",
        "xaxis": {
         "titlefont": {
          "color": "#7f7f7f",
          "family": "Courier New, monospace",
          "size": 18
         }
        },
        "yaxis": {
         "titlefont": {
          "color": "#7f7f7f",
          "family": "Courier New, monospace",
          "size": 18
         }
        }
       }
      },
      "text/html": [
       "<div id=\"aa5460e1-916c-4bff-9930-77afbb7109ba\" style=\"height: 525px; width: 100%;\" class=\"plotly-graph-div\"></div><script type=\"text/javascript\">require([\"plotly\"], function(Plotly) { window.PLOTLYENV=window.PLOTLYENV || {};window.PLOTLYENV.BASE_URL=\"https://plot.ly\";Plotly.newPlot(\"aa5460e1-916c-4bff-9930-77afbb7109ba\", [{\"type\": \"bar\", \"x\": [\"Yes\", \"No\"], \"y\": [26, 99], \"name\": \"Labodrie Baseline\"}, {\"type\": \"bar\", \"x\": [\"Yes\", \"No\"], \"y\": [92, 26], \"name\": \"Labodrie 6 month\"}], {\"barmode\": \"group\", \"title\": \"Do kids have space to study?\", \"xaxis\": {\"titlefont\": {\"family\": \"Courier New, monospace\", \"size\": 18, \"color\": \"#7f7f7f\"}}, \"yaxis\": {\"titlefont\": {\"family\": \"Courier New, monospace\", \"size\": 18, \"color\": \"#7f7f7f\"}}}, {\"showLink\": true, \"linkText\": \"Export to plot.ly\"})});</script>"
      ],
      "text/vnd.plotly.v1+html": [
       "<div id=\"aa5460e1-916c-4bff-9930-77afbb7109ba\" style=\"height: 525px; width: 100%;\" class=\"plotly-graph-div\"></div><script type=\"text/javascript\">require([\"plotly\"], function(Plotly) { window.PLOTLYENV=window.PLOTLYENV || {};window.PLOTLYENV.BASE_URL=\"https://plot.ly\";Plotly.newPlot(\"aa5460e1-916c-4bff-9930-77afbb7109ba\", [{\"type\": \"bar\", \"x\": [\"Yes\", \"No\"], \"y\": [26, 99], \"name\": \"Labodrie Baseline\"}, {\"type\": \"bar\", \"x\": [\"Yes\", \"No\"], \"y\": [92, 26], \"name\": \"Labodrie 6 month\"}], {\"barmode\": \"group\", \"title\": \"Do kids have space to study?\", \"xaxis\": {\"titlefont\": {\"family\": \"Courier New, monospace\", \"size\": 18, \"color\": \"#7f7f7f\"}}, \"yaxis\": {\"titlefont\": {\"family\": \"Courier New, monospace\", \"size\": 18, \"color\": \"#7f7f7f\"}}}, {\"showLink\": true, \"linkText\": \"Export to plot.ly\"})});</script>"
      ]
     },
     "metadata": {},
     "output_type": "display_data"
    }
   ],
   "source": [
    "trace1 = go.Bar(\n",
    "    x=df_lab_base['Study space'].value_counts().sort_index(ascending=False).index.tolist(),\n",
    "    y=df_lab_base['Study space'].value_counts().sort_index(ascending=False).values.tolist(),\n",
    "    name='Labodrie Baseline'\n",
    ")\n",
    "trace2 = go.Bar(\n",
    "    x=df_lab_6month['Study space'].value_counts().sort_index(ascending=False).index.tolist(),\n",
    "    y=df_lab_6month['Study space'].value_counts().sort_index(ascending=False).values.tolist(),\n",
    "    name='Labodrie 6 month'\n",
    ")\n",
    "\n",
    "data = [trace1, trace2]\n",
    "layout = go.Layout(\n",
    "    barmode='group',\n",
    "    title='Do kids have space to study?',\n",
    "    xaxis=dict(\n",
    "        #title='',\n",
    "        titlefont=dict(\n",
    "            family='Courier New, monospace',\n",
    "            size=18,\n",
    "            color='#7f7f7f'\n",
    "        )\n",
    "    ),\n",
    "    yaxis=dict(\n",
    "        #title='',\n",
    "        titlefont=dict(\n",
    "            family='Courier New, monospace',\n",
    "            size=18,\n",
    "            color='#7f7f7f'\n",
    "        )\n",
    "    )\n",
    ")\n",
    "\n",
    "fig = go.Figure(data=data, layout=layout)\n",
    "py.iplot(fig, filename='a')"
   ]
  },
  {
   "cell_type": "code",
   "execution_count": 274,
   "metadata": {},
   "outputs": [
    {
     "data": {
      "application/vnd.plotly.v1+json": {
       "data": [
        {
         "name": "Labodrie Baseline",
         "type": "bar",
         "x": [
          "Yes",
          "No"
         ],
         "y": [
          31,
          94
         ]
        },
        {
         "name": "Labodrie 6 month",
         "type": "bar",
         "x": [
          "Yes",
          "No"
         ],
         "y": [
          113,
          5
         ]
        }
       ],
       "layout": {
        "barmode": "group",
        "title": "Do you feel safe?",
        "xaxis": {
         "titlefont": {
          "color": "#7f7f7f",
          "family": "Courier New, monospace",
          "size": 18
         }
        },
        "yaxis": {
         "titlefont": {
          "color": "#7f7f7f",
          "family": "Courier New, monospace",
          "size": 18
         }
        }
       }
      },
      "text/html": [
       "<div id=\"9e3c07dc-ad3b-4247-9f08-2fc27cafd423\" style=\"height: 525px; width: 100%;\" class=\"plotly-graph-div\"></div><script type=\"text/javascript\">require([\"plotly\"], function(Plotly) { window.PLOTLYENV=window.PLOTLYENV || {};window.PLOTLYENV.BASE_URL=\"https://plot.ly\";Plotly.newPlot(\"9e3c07dc-ad3b-4247-9f08-2fc27cafd423\", [{\"type\": \"bar\", \"x\": [\"Yes\", \"No\"], \"y\": [31, 94], \"name\": \"Labodrie Baseline\"}, {\"type\": \"bar\", \"x\": [\"Yes\", \"No\"], \"y\": [113, 5], \"name\": \"Labodrie 6 month\"}], {\"barmode\": \"group\", \"title\": \"Do you feel safe?\", \"xaxis\": {\"titlefont\": {\"family\": \"Courier New, monospace\", \"size\": 18, \"color\": \"#7f7f7f\"}}, \"yaxis\": {\"titlefont\": {\"family\": \"Courier New, monospace\", \"size\": 18, \"color\": \"#7f7f7f\"}}}, {\"showLink\": true, \"linkText\": \"Export to plot.ly\"})});</script>"
      ],
      "text/vnd.plotly.v1+html": [
       "<div id=\"9e3c07dc-ad3b-4247-9f08-2fc27cafd423\" style=\"height: 525px; width: 100%;\" class=\"plotly-graph-div\"></div><script type=\"text/javascript\">require([\"plotly\"], function(Plotly) { window.PLOTLYENV=window.PLOTLYENV || {};window.PLOTLYENV.BASE_URL=\"https://plot.ly\";Plotly.newPlot(\"9e3c07dc-ad3b-4247-9f08-2fc27cafd423\", [{\"type\": \"bar\", \"x\": [\"Yes\", \"No\"], \"y\": [31, 94], \"name\": \"Labodrie Baseline\"}, {\"type\": \"bar\", \"x\": [\"Yes\", \"No\"], \"y\": [113, 5], \"name\": \"Labodrie 6 month\"}], {\"barmode\": \"group\", \"title\": \"Do you feel safe?\", \"xaxis\": {\"titlefont\": {\"family\": \"Courier New, monospace\", \"size\": 18, \"color\": \"#7f7f7f\"}}, \"yaxis\": {\"titlefont\": {\"family\": \"Courier New, monospace\", \"size\": 18, \"color\": \"#7f7f7f\"}}}, {\"showLink\": true, \"linkText\": \"Export to plot.ly\"})});</script>"
      ]
     },
     "metadata": {},
     "output_type": "display_data"
    }
   ],
   "source": [
    "trace1 = go.Bar(\n",
    "    x=df_lab_base['Safe in tent?'].value_counts().sort_index(ascending=False).index.tolist(),\n",
    "    y=df_lab_base['Safe in tent?'].value_counts().sort_index(ascending=False).values.tolist(),\n",
    "    name='Labodrie Baseline'\n",
    ")\n",
    "trace2 = go.Bar(\n",
    "    x=df_lab_6month['Safe in tent?'].value_counts().sort_index(ascending=False).index.tolist(),\n",
    "    y=df_lab_6month['Safe in tent?'].value_counts().sort_index(ascending=False).values.tolist(),\n",
    "    name='Labodrie 6 month'\n",
    ")\n",
    "\n",
    "data = [trace1, trace2]\n",
    "layout = go.Layout(\n",
    "    barmode='group',\n",
    "    title='Do you feel safe?',\n",
    "    xaxis=dict(\n",
    "        #title='',\n",
    "        titlefont=dict(\n",
    "            family='Courier New, monospace',\n",
    "            size=18,\n",
    "            color='#7f7f7f'\n",
    "        )\n",
    "    ),\n",
    "    yaxis=dict(\n",
    "        #title='',\n",
    "        titlefont=dict(\n",
    "            family='Courier New, monospace',\n",
    "            size=18,\n",
    "            color='#7f7f7f'\n",
    "        )\n",
    "    )\n",
    ")\n",
    "\n",
    "fig = go.Figure(data=data, layout=layout)\n",
    "py.iplot(fig, filename='a')"
   ]
  },
  {
   "cell_type": "code",
   "execution_count": 275,
   "metadata": {},
   "outputs": [
    {
     "data": {
      "application/vnd.plotly.v1+json": {
       "data": [
        {
         "name": "Labodrie 6 month",
         "type": "bar",
         "x": [
          "Very satisfied",
          "Quite satisfied",
          "Not very satisfied",
          "Not at all satisfied"
         ],
         "y": [
          15,
          69,
          29,
          5
         ]
        }
       ],
       "layout": {
        "barmode": "group",
        "title": "How satisfied are you with life?",
        "xaxis": {
         "titlefont": {
          "color": "#7f7f7f",
          "family": "Courier New, monospace",
          "size": 18
         }
        },
        "yaxis": {
         "titlefont": {
          "color": "#7f7f7f",
          "family": "Courier New, monospace",
          "size": 18
         }
        }
       }
      },
      "text/html": [
       "<div id=\"2384c9f3-0fa9-4077-84e5-015bd23ff0bd\" style=\"height: 525px; width: 100%;\" class=\"plotly-graph-div\"></div><script type=\"text/javascript\">require([\"plotly\"], function(Plotly) { window.PLOTLYENV=window.PLOTLYENV || {};window.PLOTLYENV.BASE_URL=\"https://plot.ly\";Plotly.newPlot(\"2384c9f3-0fa9-4077-84e5-015bd23ff0bd\", [{\"type\": \"bar\", \"x\": [\"Very satisfied\", \"Quite satisfied\", \"Not very satisfied\", \"Not at all satisfied\"], \"y\": [15, 69, 29, 5], \"name\": \"Labodrie 6 month\"}], {\"barmode\": \"group\", \"title\": \"How satisfied are you with life?\", \"xaxis\": {\"titlefont\": {\"family\": \"Courier New, monospace\", \"size\": 18, \"color\": \"#7f7f7f\"}}, \"yaxis\": {\"titlefont\": {\"family\": \"Courier New, monospace\", \"size\": 18, \"color\": \"#7f7f7f\"}}}, {\"showLink\": true, \"linkText\": \"Export to plot.ly\"})});</script>"
      ],
      "text/vnd.plotly.v1+html": [
       "<div id=\"2384c9f3-0fa9-4077-84e5-015bd23ff0bd\" style=\"height: 525px; width: 100%;\" class=\"plotly-graph-div\"></div><script type=\"text/javascript\">require([\"plotly\"], function(Plotly) { window.PLOTLYENV=window.PLOTLYENV || {};window.PLOTLYENV.BASE_URL=\"https://plot.ly\";Plotly.newPlot(\"2384c9f3-0fa9-4077-84e5-015bd23ff0bd\", [{\"type\": \"bar\", \"x\": [\"Very satisfied\", \"Quite satisfied\", \"Not very satisfied\", \"Not at all satisfied\"], \"y\": [15, 69, 29, 5], \"name\": \"Labodrie 6 month\"}], {\"barmode\": \"group\", \"title\": \"How satisfied are you with life?\", \"xaxis\": {\"titlefont\": {\"family\": \"Courier New, monospace\", \"size\": 18, \"color\": \"#7f7f7f\"}}, \"yaxis\": {\"titlefont\": {\"family\": \"Courier New, monospace\", \"size\": 18, \"color\": \"#7f7f7f\"}}}, {\"showLink\": true, \"linkText\": \"Export to plot.ly\"})});</script>"
      ]
     },
     "metadata": {},
     "output_type": "display_data"
    }
   ],
   "source": [
    "# How satisfied are the people after housing?\n",
    "data = [go.Bar(\n",
    "            x=df_lab_6month['Life satisfaction'].value_counts().sort_index(ascending=False).index.tolist(),\n",
    "            y=df_lab_6month['Life satisfaction'].value_counts().sort_index(ascending=False).values.tolist(),\n",
    "            name='Labodrie 6 month'\n",
    "    )]\n",
    "layout = go.Layout(\n",
    "    barmode='group',\n",
    "    title='How satisfied are you with life?',\n",
    "    xaxis=dict(\n",
    "        #title='',\n",
    "        titlefont=dict(\n",
    "            family='Courier New, monospace',\n",
    "            size=18,\n",
    "            color='#7f7f7f'\n",
    "        )\n",
    "    ),\n",
    "    yaxis=dict(\n",
    "        #title='',\n",
    "        titlefont=dict(\n",
    "            family='Courier New, monospace',\n",
    "            size=18,\n",
    "            color='#7f7f7f'\n",
    "        )\n",
    "    )\n",
    ")\n",
    "\n",
    "fig = go.Figure(data=data, layout=layout)\n",
    "py.iplot(fig, filename='a')"
   ]
  },
  {
   "cell_type": "code",
   "execution_count": 276,
   "metadata": {},
   "outputs": [
    {
     "data": {
      "application/vnd.plotly.v1+json": {
       "data": [
        {
         "name": "Labodrie 6 month",
         "type": "bar",
         "x": [
          "Strongly agree",
          "Somewhat agree",
          "Neither agree nor disagree"
         ],
         "y": [
          57,
          45,
          16
         ]
        }
       ],
       "layout": {
        "barmode": "group",
        "title": "Do you believe you have a better life in the future?",
        "xaxis": {
         "titlefont": {
          "color": "#7f7f7f",
          "family": "Courier New, monospace",
          "size": 18
         }
        },
        "yaxis": {
         "titlefont": {
          "color": "#7f7f7f",
          "family": "Courier New, monospace",
          "size": 18
         }
        }
       }
      },
      "text/html": [
       "<div id=\"afdf898e-45fb-499b-99d8-e02b3b82d100\" style=\"height: 525px; width: 100%;\" class=\"plotly-graph-div\"></div><script type=\"text/javascript\">require([\"plotly\"], function(Plotly) { window.PLOTLYENV=window.PLOTLYENV || {};window.PLOTLYENV.BASE_URL=\"https://plot.ly\";Plotly.newPlot(\"afdf898e-45fb-499b-99d8-e02b3b82d100\", [{\"type\": \"bar\", \"x\": [\"Strongly agree\", \"Somewhat agree\", \"Neither agree nor disagree\"], \"y\": [57, 45, 16], \"name\": \"Labodrie 6 month\"}], {\"barmode\": \"group\", \"title\": \"Do you believe you have a better life in the future?\", \"xaxis\": {\"titlefont\": {\"family\": \"Courier New, monospace\", \"size\": 18, \"color\": \"#7f7f7f\"}}, \"yaxis\": {\"titlefont\": {\"family\": \"Courier New, monospace\", \"size\": 18, \"color\": \"#7f7f7f\"}}}, {\"showLink\": true, \"linkText\": \"Export to plot.ly\"})});</script>"
      ],
      "text/vnd.plotly.v1+html": [
       "<div id=\"afdf898e-45fb-499b-99d8-e02b3b82d100\" style=\"height: 525px; width: 100%;\" class=\"plotly-graph-div\"></div><script type=\"text/javascript\">require([\"plotly\"], function(Plotly) { window.PLOTLYENV=window.PLOTLYENV || {};window.PLOTLYENV.BASE_URL=\"https://plot.ly\";Plotly.newPlot(\"afdf898e-45fb-499b-99d8-e02b3b82d100\", [{\"type\": \"bar\", \"x\": [\"Strongly agree\", \"Somewhat agree\", \"Neither agree nor disagree\"], \"y\": [57, 45, 16], \"name\": \"Labodrie 6 month\"}], {\"barmode\": \"group\", \"title\": \"Do you believe you have a better life in the future?\", \"xaxis\": {\"titlefont\": {\"family\": \"Courier New, monospace\", \"size\": 18, \"color\": \"#7f7f7f\"}}, \"yaxis\": {\"titlefont\": {\"family\": \"Courier New, monospace\", \"size\": 18, \"color\": \"#7f7f7f\"}}}, {\"showLink\": true, \"linkText\": \"Export to plot.ly\"})});</script>"
      ]
     },
     "metadata": {},
     "output_type": "display_data"
    }
   ],
   "source": [
    "# Do you believe you have a better life in the future? (Housing gives hope and improves quality of life)\n",
    "data = [go.Bar(\n",
    "            x=df_lab_6month['Better life in future'].value_counts().sort_index(ascending=False).index.tolist(),\n",
    "            y=df_lab_6month['Better life in future'].value_counts().sort_index(ascending=False).values.tolist(),\n",
    "            name='Labodrie 6 month'\n",
    "    )]\n",
    "layout = go.Layout(\n",
    "    barmode='group',\n",
    "    title='Do you believe you have a better life in the future?',\n",
    "    xaxis=dict(\n",
    "        #title='',\n",
    "        titlefont=dict(\n",
    "            family='Courier New, monospace',\n",
    "            size=18,\n",
    "            color='#7f7f7f'\n",
    "        )\n",
    "    ),\n",
    "    yaxis=dict(\n",
    "        #title='',\n",
    "        titlefont=dict(\n",
    "            family='Courier New, monospace',\n",
    "            size=18,\n",
    "            color='#7f7f7f'\n",
    "        )\n",
    "    )\n",
    ")\n",
    "\n",
    "fig = go.Figure(data=data, layout=layout)\n",
    "py.iplot(fig, filename='a')"
   ]
  },
  {
   "cell_type": "code",
   "execution_count": null,
   "metadata": {
    "collapsed": true
   },
   "outputs": [],
   "source": []
  }
 ],
 "metadata": {
  "kernelspec": {
   "display_name": "Python 3",
   "language": "python",
   "name": "python3"
  },
  "language_info": {
   "codemirror_mode": {
    "name": "ipython",
    "version": 3
   },
   "file_extension": ".py",
   "mimetype": "text/x-python",
   "name": "python",
   "nbconvert_exporter": "python",
   "pygments_lexer": "ipython3",
   "version": "3.6.3"
  }
 },
 "nbformat": 4,
 "nbformat_minor": 2
}
